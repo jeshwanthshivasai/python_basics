{
 "cells": [
  {
   "cell_type": "code",
   "execution_count": 1,
   "metadata": {},
   "outputs": [
    {
     "name": "stdout",
     "output_type": "stream",
     "text": [
      "You'll be a good companion, Ramya Naidu!\n"
     ]
    }
   ],
   "source": [
    "#Try_it_yourself\n",
    "#2-3 (Personal_message)\n",
    "firstname = \"ramya\"\n",
    "lastname = \"naidu\"\n",
    "fullname = f\"{firstname} {lastname}\"\n",
    "message = f\"You'll be a good companion, {fullname.title()}!\"\n",
    "print(message)"
   ]
  },
  {
   "cell_type": "code",
   "execution_count": 3,
   "metadata": {},
   "outputs": [
    {
     "name": "stdout",
     "output_type": "stream",
     "text": [
      "ramya naidu\n",
      "RAMYA NAIDU\n",
      "Ramya Naidu\n"
     ]
    }
   ],
   "source": [
    "#Try_it_yourself\n",
    "#2-4 (Name_cases)\n",
    "firstname = \"ramya\"\n",
    "lastname = \"naidu\"\n",
    "fullname = f\"{firstname} {lastname}\"\n",
    "print(fullname.lower())\n",
    "print(fullname.upper())\n",
    "print(fullname.title())"
   ]
  },
  {
   "cell_type": "code",
   "execution_count": 39,
   "metadata": {},
   "outputs": [
    {
     "name": "stdout",
     "output_type": "stream",
     "text": [
      "Ramya Naidu \"Bondam laaga bayata nunchi gattiga lopala metthaga undandi\"\n"
     ]
    }
   ],
   "source": [
    "#Try_it_yourself\n",
    "#2-5 (Famous_quote - 1)\n",
    "famous_person = \"Ramya Naidu\"\n",
    "quote = '\"Bondam laaga bayata nunchi gattiga lopala metthaga undandi\"'\n",
    "print(famous_person, quote)"
   ]
  },
  {
   "cell_type": "code",
   "execution_count": 31,
   "metadata": {},
   "outputs": [
    {
     "name": "stdout",
     "output_type": "stream",
     "text": [
      "Her Majesty, The Greateast of the great, 'Ramya Naidu' once said \"Bondam laaga bayata nunchi gattiga lopala metthaga undandi\".\n"
     ]
    }
   ],
   "source": [
    "#Try_it_yourself\n",
    "#2-6 (Famous_quote - 2)\n",
    "firstname = \"ramya\"\n",
    "lastname = \"naidu\"\n",
    "famous_person = f\"'{firstname} {lastname}'\"\n",
    "famous_quote = '\"Bondam laaga bayata nunchi gattiga lopala metthaga undandi\"'\n",
    "message = f\"Her Majesty, The Greateast of the great, {famous_person.title()} once said {famous_quote}.\"\n",
    "print(message)"
   ]
  },
  {
   "cell_type": "code",
   "execution_count": 1,
   "metadata": {},
   "outputs": [
    {
     "name": "stdout",
     "output_type": "stream",
     "text": [
      "  rahul_siddharth  \n",
      "\tname\n",
      "\n",
      "name\n"
     ]
    }
   ],
   "source": [
    "#Try_it_yourself\n",
    "#2-7 (Stripping_names)\n",
    "name = \"  rahul_siddharth  \"\n",
    "print(name)\n",
    "print(\"\\tname\")\n",
    "print(\"\\nname\")"
   ]
  }
 ],
 "metadata": {
  "kernelspec": {
   "display_name": "env",
   "language": "python",
   "name": "python3"
  },
  "language_info": {
   "codemirror_mode": {
    "name": "ipython",
    "version": 3
   },
   "file_extension": ".py",
   "mimetype": "text/x-python",
   "name": "python",
   "nbconvert_exporter": "python",
   "pygments_lexer": "ipython3",
   "version": "3.11.8"
  }
 },
 "nbformat": 4,
 "nbformat_minor": 2
}
