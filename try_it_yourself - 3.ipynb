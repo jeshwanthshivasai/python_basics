{
 "cells": [
  {
   "cell_type": "code",
   "execution_count": 1,
   "metadata": {},
   "outputs": [
    {
     "name": "stdout",
     "output_type": "stream",
     "text": [
      "You'll be a good companion, Ramya Naidu!\n"
     ]
    }
   ],
   "source": [
    "#Try_it_yourself\n",
    "#2-3 (Personal_message)\n",
    "firstname = \"ramya\"\n",
    "lastname = \"naidu\"\n",
    "fullname = f\"{firstname} {lastname}\"\n",
    "message = f\"You'll be a good companion, {fullname.title()}!\"\n",
    "print(message)"
   ]
  }
 ],
 "metadata": {
  "kernelspec": {
   "display_name": "env",
   "language": "python",
   "name": "python3"
  },
  "language_info": {
   "codemirror_mode": {
    "name": "ipython",
    "version": 3
   },
   "file_extension": ".py",
   "mimetype": "text/x-python",
   "name": "python",
   "nbconvert_exporter": "python",
   "pygments_lexer": "ipython3",
   "version": "3.11.8"
  }
 },
 "nbformat": 4,
 "nbformat_minor": 2
}
