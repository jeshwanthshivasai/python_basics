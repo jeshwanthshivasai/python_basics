{
 "cells": [
  {
   "cell_type": "code",
   "execution_count": 53,
   "metadata": {},
   "outputs": [
    {
     "name": "stdout",
     "output_type": "stream",
     "text": [
      "idioteye\n",
      "kc\n",
      "schola\n",
      "ramya\n"
     ]
    }
   ],
   "source": [
    "#Try_it_yourself\n",
    "#3-1 (Names)\n",
    "friends = ['idioteye', 'kc', 'schola', 'ramya']\n",
    "print(friends[0])\n",
    "print(friends[1])\n",
    "print(friends[2])\n",
    "print(friends[3])"
   ]
  },
  {
   "cell_type": "code",
   "execution_count": 54,
   "metadata": {},
   "outputs": [
    {
     "name": "stdout",
     "output_type": "stream",
     "text": [
      "spotify kattu ra rey Idioteye\n",
      "paneer tintavetraa Kc?\n",
      "how's your new job Schola?\n",
      "nuv mysore ah madras ah Ramya?\n"
     ]
    }
   ],
   "source": [
    "#Try_it_yourself\n",
    "#3-2 (Greetings)\n",
    "friends = ['idioteye', 'kc', 'schola', 'ramya']\n",
    "message1 = f\"spotify kattu ra rey {friends[0].title()}\"\n",
    "message2 = f\"paneer tintavetraa {friends[1].title()}?\"\n",
    "message3 = f\"how's your new job {friends[2].title()}?\"\n",
    "message4 = f\"nuv mysore ah madras ah {friends[3].title()}?\"\n",
    "print(message1)\n",
    "print(message2)\n",
    "print(message3)\n",
    "print(message4)"
   ]
  },
  {
   "cell_type": "code",
   "execution_count": 55,
   "metadata": {},
   "outputs": [
    {
     "name": "stdout",
     "output_type": "stream",
     "text": [
      "VW Virtus is my dream Sedan\n",
      "Ford Raptor is my dream Offroader\n",
      "I want the best Mtb\n",
      "Don't know where to find a good E-Skateboard\n"
     ]
    }
   ],
   "source": [
    "#Try_it_yourself\n",
    "#3-3 (Your_own_list)\n",
    "vehicles = ['sedan', 'offroader', 'mtb', 'e-skateboard']\n",
    "sedan = f\"VW Virtus is my dream {vehicles[0].title()}\"\n",
    "offroader = f\"Ford Raptor is my dream {vehicles[1].title()}\"\n",
    "mtb = f\"I want the best {vehicles[2].title()}\"\n",
    "eskateboard = f\"Don't know where to find a good {vehicles[3].title()}\"\n",
    "print(sedan)\n",
    "print(offroader)\n",
    "print(mtb)\n",
    "print(eskateboard)\n"
   ]
  },
  {
   "cell_type": "code",
   "execution_count": 56,
   "metadata": {},
   "outputs": [
    {
     "name": "stdout",
     "output_type": "stream",
     "text": [
      "kheema tintavetra Idioteye?\n",
      "paneer tintavetraa Kc?\n",
      "dosa? icecream? Schola?\n",
      "bondam tinu bondam Ramya?\n"
     ]
    }
   ],
   "source": [
    "#Try_it_yourself\n",
    "#3-4 (Guest_list)\n",
    "friends = ['idioteye', 'kc', 'schola', 'ramya']\n",
    "message1 = f\"kheema tintavetra {friends[0].title()}?\"\n",
    "message2 = f\"paneer tintavetraa {friends[1].title()}?\"\n",
    "message3 = f\"dosa? icecream? {friends[2].title()}?\"\n",
    "message4 = f\"bondam tinu bondam {friends[3].title()}?\"\n",
    "print(message1)\n",
    "print(message2)\n",
    "print(message3)\n",
    "print(message4)"
   ]
  },
  {
   "cell_type": "code",
   "execution_count": 57,
   "metadata": {},
   "outputs": [
    {
     "name": "stdout",
     "output_type": "stream",
     "text": [
      "['idioteye', 'kc', 'yashu', 'ramya']\n",
      "kheema tintavetra Idioteye?\n",
      "paneer tintavetraa Kc?\n",
      "dosa? icecream? Yashu?\n",
      "bondam tinu bondam Ramya?\n"
     ]
    }
   ],
   "source": [
    "#Try_it_yourself\n",
    "#3-5 (Changing_Guest_list)\n",
    "friends = ['idioteye', 'kc', 'schola', 'ramya']\n",
    "friends[2] = 'yashu'\n",
    "print(friends)\n",
    "message1 = f\"kheema tintavetra {friends[0].title()}?\"\n",
    "message2 = f\"paneer tintavetraa {friends[1].title()}?\"\n",
    "message3 = f\"dosa? icecream? {friends[2].title()}?\"\n",
    "message4 = f\"bondam tinu bondam {friends[3].title()}?\"\n",
    "print(message1)\n",
    "print(message2)\n",
    "print(message3)\n",
    "print(message4)"
   ]
  },
  {
   "cell_type": "code",
   "execution_count": 58,
   "metadata": {},
   "outputs": [
    {
     "name": "stdout",
     "output_type": "stream",
     "text": [
      "['babu', 'idioteye', 'kc', 'baddam', 'schola', 'ramya', 'bondam']\n",
      "kheema tintavetra Babu?\n",
      "paneer tintavetraa Idioteye?\n",
      "dosa? icecream? Kc?\n",
      "bondam tinu bondam Baddam?\n",
      "bondam tinu bondam Schola?\n",
      "bondam tinu bondam Ramya?\n",
      "bondam tinu bondam Bondam?\n"
     ]
    }
   ],
   "source": [
    "#Try_it_yourself\n",
    "#3-6 (More_Guests)\n",
    "friends = ['idioteye', 'kc', 'schola', 'ramya']\n",
    "friends.insert(0, 'babu')\n",
    "friends.insert(3, 'baddam')\n",
    "friends.append('bondam')\n",
    "print(friends)\n",
    "message1 = f\"kheema tintavetra {friends[0].title()}?\"\n",
    "message2 = f\"paneer tintavetraa {friends[1].title()}?\"\n",
    "message3 = f\"dosa? icecream? {friends[2].title()}?\"\n",
    "message4 = f\"bondam tinu bondam {friends[3].title()}?\"\n",
    "message5 = f\"bondam tinu bondam {friends[4].title()}?\"\n",
    "message6 = f\"bondam tinu bondam {friends[5].title()}?\"\n",
    "message7 = f\"bondam tinu bondam {friends[6].title()}?\"\n",
    "print(message1)\n",
    "print(message2)\n",
    "print(message3)\n",
    "print(message4)\n",
    "print(message5)\n",
    "print(message6)\n",
    "print(message7)"
   ]
  },
  {
   "cell_type": "code",
   "execution_count": 59,
   "metadata": {},
   "outputs": [
    {
     "name": "stdout",
     "output_type": "stream",
     "text": [
      "sorry ramya\n",
      "sorry schola\n",
      "['idioteye', 'kc']\n",
      "['kc']\n"
     ]
    }
   ],
   "source": [
    "#Try_it_yourself\n",
    "#3-7 (Shrink_Guest_list)\n",
    "friends = ['idioteye', 'kc', 'schola', 'ramya']\n",
    "removeone = friends.pop()\n",
    "print(f\"sorry {removeone}\")\n",
    "removetwo = friends.pop()\n",
    "print(f\"sorry {removetwo}\")\n",
    "print(friends)\n",
    "del friends[0]\n",
    "print(friends)\n",
    "# del friends[1]\n",
    "# print(friends)\n"
   ]
  },
  {
   "cell_type": "code",
   "execution_count": 60,
   "metadata": {},
   "outputs": [
    {
     "name": "stdout",
     "output_type": "stream",
     "text": [
      "['china', 'newyork', 'greenland', 'france', 'italy', 'switzerland']\n",
      "['china', 'france', 'greenland', 'italy', 'newyork', 'switzerland']\n",
      "['switzerland', 'newyork', 'italy', 'greenland', 'france', 'china']\n",
      "['china', 'france', 'greenland', 'italy', 'newyork', 'switzerland']\n",
      "['switzerland', 'newyork', 'italy', 'greenland', 'france', 'china']\n",
      "['china', 'france', 'greenland', 'italy', 'newyork', 'switzerland']\n",
      "['switzerland', 'newyork', 'italy', 'greenland', 'france', 'china']\n"
     ]
    }
   ],
   "source": [
    "#Try_it_yourself\n",
    "#3-8 (Seeing_the_World)\n",
    "bucketlist = ['china', 'newyork', 'greenland', 'france', 'italy', 'switzerland']\n",
    "print(bucketlist)\n",
    "print(sorted(bucketlist))\n",
    "bucketlist.sort(reverse=True)\n",
    "print(bucketlist)\n",
    "bucketlist.reverse()\n",
    "print(bucketlist)\n",
    "bucketlist.reverse()\n",
    "print(bucketlist)\n",
    "bucketlist.sort()\n",
    "print(bucketlist)\n",
    "bucketlist.sort(reverse=True)\n",
    "print(bucketlist)\n"
   ]
  },
  {
   "cell_type": "code",
   "execution_count": 61,
   "metadata": {},
   "outputs": [
    {
     "name": "stdout",
     "output_type": "stream",
     "text": [
      "4\n"
     ]
    }
   ],
   "source": [
    "#Try_it_yourself\n",
    "#3-9 (Dinner_guests)\n",
    "friends = ['idioteye', 'kc', 'schola', 'ramya']\n",
    "print(len(friends))\n"
   ]
  },
  {
   "cell_type": "code",
   "execution_count": 62,
   "metadata": {},
   "outputs": [
    {
     "name": "stdout",
     "output_type": "stream",
     "text": [
      "China\n",
      "Newyork\n",
      "Greenland\n",
      "France\n",
      "Italy\n",
      "Switzerland\n",
      "\n",
      "i love China\n",
      "\n",
      "i love Newyork\n",
      "\n",
      "i love Greenland\n",
      "\n",
      "i love France\n",
      "\n",
      "i love Italy\n",
      "\n",
      "i love Switzerland\n",
      "countries\n",
      "['china', 'chile', 'france', 'italy', 'switzerland']\n",
      "['china', 'chile', 'france', 'italy', 'switzerland', 'brazil']\n",
      "['china', 'portugal', 'chile', 'france', 'italy', 'switzerland', 'brazil']\n",
      "['china', 'portugal', 'france', 'italy', 'switzerland', 'brazil']\n",
      "6\n"
     ]
    }
   ],
   "source": [
    "#Try_it_yourself\n",
    "#3-10 (Every_function)\n",
    "countries = ['china', 'newyork', 'greenland', 'france', 'italy', 'switzerland']\n",
    "print(countries[0].title())\n",
    "print(countries[1].title())\n",
    "print(countries[2].title())\n",
    "print(countries[3].title())\n",
    "print(countries[4].title())\n",
    "print(countries[5].title())\n",
    "print(f\"\\ni love {countries[0].title()}\")\n",
    "print(f\"\\ni love {countries[1].title()}\")\n",
    "print(f\"\\ni love {countries[2].title()}\")\n",
    "print(f\"\\ni love {countries[3].title()}\")\n",
    "print(f\"\\ni love {countries[4].title()}\")\n",
    "print(f\"\\ni love {countries[5].title()}\")\n",
    "countries[1] = \"chile\"\n",
    "print(\"countries\")\n",
    "countries.pop(2)\n",
    "print(countries)\n",
    "countries.append('brazil')\n",
    "print(countries)\n",
    "countries.insert(1, 'portugal')\n",
    "print(countries)\n",
    "countries.remove('chile')\n",
    "print(countries)\n",
    "print(len(countries))\n"
   ]
  },
  {
   "cell_type": "code",
   "execution_count": 63,
   "metadata": {},
   "outputs": [
    {
     "ename": "IndexError",
     "evalue": "list index out of range",
     "output_type": "error",
     "traceback": [
      "\u001b[1;31m---------------------------------------------------------------------------\u001b[0m",
      "\u001b[1;31mIndexError\u001b[0m                                Traceback (most recent call last)",
      "Cell \u001b[1;32mIn[63], line 4\u001b[0m\n\u001b[0;32m      1\u001b[0m \u001b[38;5;66;03m#Try_it_yourself\u001b[39;00m\n\u001b[0;32m      2\u001b[0m \u001b[38;5;66;03m#3-11 (Intentional_mistake)\u001b[39;00m\n\u001b[0;32m      3\u001b[0m vegetables \u001b[38;5;241m=\u001b[39m [\u001b[38;5;124m'\u001b[39m\u001b[38;5;124mbeetroot\u001b[39m\u001b[38;5;124m'\u001b[39m, \u001b[38;5;124m'\u001b[39m\u001b[38;5;124mcapsicum\u001b[39m\u001b[38;5;124m'\u001b[39m, \u001b[38;5;124m'\u001b[39m\u001b[38;5;124mtomato\u001b[39m\u001b[38;5;124m'\u001b[39m, \u001b[38;5;124m'\u001b[39m\u001b[38;5;124mridgegourd\u001b[39m\u001b[38;5;124m'\u001b[39m]\n\u001b[1;32m----> 4\u001b[0m \u001b[38;5;28mprint\u001b[39m(\u001b[43mvegetables\u001b[49m\u001b[43m[\u001b[49m\u001b[38;5;241;43m4\u001b[39;49m\u001b[43m]\u001b[49m)\n",
      "\u001b[1;31mIndexError\u001b[0m: list index out of range"
     ]
    }
   ],
   "source": [
    "#Try_it_yourself\n",
    "#3-11 (Intentional_mistake)\n",
    "vegetables = ['beetroot', 'capsicum', 'tomato', 'ridgegourd']\n",
    "print(vegetables[4])"
   ]
  }
 ],
 "metadata": {
  "kernelspec": {
   "display_name": "env",
   "language": "python",
   "name": "python3"
  },
  "language_info": {
   "codemirror_mode": {
    "name": "ipython",
    "version": 3
   },
   "file_extension": ".py",
   "mimetype": "text/x-python",
   "name": "python",
   "nbconvert_exporter": "python",
   "pygments_lexer": "ipython3",
   "version": "3.11.8"
  }
 },
 "nbformat": 4,
 "nbformat_minor": 2
}
