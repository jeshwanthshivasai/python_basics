{
 "cells": [
  {
   "cell_type": "code",
   "execution_count": 3,
   "metadata": {},
   "outputs": [
    {
     "name": "stdout",
     "output_type": "stream",
     "text": [
      "idioteye\n",
      "kc\n",
      "schola\n",
      "ramya\n"
     ]
    }
   ],
   "source": [
    "#Try_it_yourself\n",
    "#3-1 (Names)\n",
    "friends = ['idioteye', 'kc', 'schola', 'ramya']\n",
    "print(friends[0])\n",
    "print(friends[1])\n",
    "print(friends[2])\n",
    "print(friends[3])"
   ]
  },
  {
   "cell_type": "code",
   "execution_count": 5,
   "metadata": {},
   "outputs": [
    {
     "name": "stdout",
     "output_type": "stream",
     "text": [
      "spotify kattu ra rey Idioteye\n",
      "paneer tintavetraa Kc?\n",
      "how's your new job Schola?\n",
      "nuv mysore ah madras ah Ramya?\n"
     ]
    }
   ],
   "source": [
    "#Try_it_yourself\n",
    "#3-2 (Greetings)\n",
    "friends = ['idioteye', 'kc', 'schola', 'ramya']\n",
    "message1 = f\"spotify kattu ra rey {friends[0].title()}\"\n",
    "message2 = f\"paneer tintavetraa {friends[1].title()}?\"\n",
    "message3 = f\"how's your new job {friends[2].title()}?\"\n",
    "message4 = f\"nuv mysore ah madras ah {friends[3].title()}?\"\n",
    "print(message1)\n",
    "print(message2)\n",
    "print(message3)\n",
    "print(message4)"
   ]
  },
  {
   "cell_type": "code",
   "execution_count": 8,
   "metadata": {},
   "outputs": [
    {
     "name": "stdout",
     "output_type": "stream",
     "text": [
      "VW Virtus is my dream Sedan\n",
      "Ford Raptor is my dream Offroader\n",
      "I want the best Mtb\n",
      "Don't know where to find a good E-Skateboard\n"
     ]
    }
   ],
   "source": [
    "#Try_it_yourself\n",
    "#3-3 (Your_own_list)\n",
    "vehicles = ['sedan', 'offroader', 'mtb', 'e-skateboard']\n",
    "sedan = f\"VW Virtus is my dream {vehicles[0].title()}\"\n",
    "offroader = f\"Ford Raptor is my dream {vehicles[1].title()}\"\n",
    "mtb = f\"I want the best {vehicles[2].title()}\"\n",
    "eskateboard = f\"Don't know where to find a good {vehicles[3].title()}\"\n",
    "print(sedan)\n",
    "print(offroader)\n",
    "print(mtb)\n",
    "print(eskateboard)\n"
   ]
  },
  {
   "cell_type": "code",
   "execution_count": 12,
   "metadata": {},
   "outputs": [
    {
     "name": "stdout",
     "output_type": "stream",
     "text": [
      "kheema tintavetra Idioteye?\n",
      "paneer tintavetraa Kc?\n",
      "dosa? icecream? Schola?\n",
      "bondam tinu bondam Ramya?\n"
     ]
    }
   ],
   "source": [
    "#Try_it_yourself\n",
    "#3-4 (Guest_list)\n",
    "friends = ['idioteye', 'kc', 'schola', 'ramya']\n",
    "message1 = f\"kheema tintavetra {friends[0].title()}?\"\n",
    "message2 = f\"paneer tintavetraa {friends[1].title()}?\"\n",
    "message3 = f\"dosa? icecream? {friends[2].title()}?\"\n",
    "message4 = f\"bondam tinu bondam {friends[3].title()}?\"\n",
    "print(message1)\n",
    "print(message2)\n",
    "print(message3)\n",
    "print(message4)"
   ]
  },
  {
   "cell_type": "code",
   "execution_count": 14,
   "metadata": {},
   "outputs": [
    {
     "name": "stdout",
     "output_type": "stream",
     "text": [
      "['idioteye', 'kc', 'yashu', 'ramya']\n",
      "kheema tintavetra Idioteye?\n",
      "paneer tintavetraa Kc?\n",
      "dosa? icecream? Yashu?\n",
      "bondam tinu bondam Ramya?\n"
     ]
    }
   ],
   "source": [
    "#Try_it_yourself\n",
    "#3-5 (Changing_Guest_list)\n",
    "friends = ['idioteye', 'kc', 'schola', 'ramya']\n",
    "friends[2] = 'yashu'\n",
    "print(friends)\n",
    "message1 = f\"kheema tintavetra {friends[0].title()}?\"\n",
    "message2 = f\"paneer tintavetraa {friends[1].title()}?\"\n",
    "message3 = f\"dosa? icecream? {friends[2].title()}?\"\n",
    "message4 = f\"bondam tinu bondam {friends[3].title()}?\"\n",
    "print(message1)\n",
    "print(message2)\n",
    "print(message3)\n",
    "print(message4)"
   ]
  },
  {
   "cell_type": "code",
   "execution_count": 18,
   "metadata": {},
   "outputs": [
    {
     "name": "stdout",
     "output_type": "stream",
     "text": [
      "['babu', 'idioteye', 'kc', 'baddam', 'schola', 'ramya', 'bondam']\n",
      "kheema tintavetra Babu?\n",
      "paneer tintavetraa Idioteye?\n",
      "dosa? icecream? Kc?\n",
      "bondam tinu bondam Baddam?\n",
      "bondam tinu bondam Schola?\n",
      "bondam tinu bondam Ramya?\n",
      "bondam tinu bondam Bondam?\n"
     ]
    }
   ],
   "source": [
    "#Try_it_yourself\n",
    "#3-6 (More_Guests)\n",
    "friends = ['idioteye', 'kc', 'schola', 'ramya']\n",
    "friends.insert(0, 'babu')\n",
    "friends.insert(3, 'baddam')\n",
    "friends.append('bondam')\n",
    "print(friends)\n",
    "message1 = f\"kheema tintavetra {friends[0].title()}?\"\n",
    "message2 = f\"paneer tintavetraa {friends[1].title()}?\"\n",
    "message3 = f\"dosa? icecream? {friends[2].title()}?\"\n",
    "message4 = f\"bondam tinu bondam {friends[3].title()}?\"\n",
    "message5 = f\"bondam tinu bondam {friends[4].title()}?\"\n",
    "message6 = f\"bondam tinu bondam {friends[5].title()}?\"\n",
    "message7 = f\"bondam tinu bondam {friends[6].title()}?\"\n",
    "print(message1)\n",
    "print(message2)\n",
    "print(message3)\n",
    "print(message4)\n",
    "print(message5)\n",
    "print(message6)\n",
    "print(message7)"
   ]
  },
  {
   "cell_type": "code",
   "execution_count": 39,
   "metadata": {},
   "outputs": [
    {
     "name": "stdout",
     "output_type": "stream",
     "text": [
      "sorry ramya\n",
      "sorry schola\n",
      "['idioteye', 'kc']\n",
      "['kc']\n"
     ]
    }
   ],
   "source": [
    "#Try_it_yourself\n",
    "#3-7 (Shrink_Guest_list)\n",
    "friends = ['idioteye', 'kc', 'schola', 'ramya']\n",
    "removeone = friends.pop()\n",
    "print(f\"sorry {removeone}\")\n",
    "removetwo = friends.pop()\n",
    "print(f\"sorry {removetwo}\")\n",
    "print(friends)\n",
    "del friends[0]\n",
    "print(friends)\n",
    "# del friends[1]\n",
    "# print(friends)\n"
   ]
  }
 ],
 "metadata": {
  "kernelspec": {
   "display_name": "env",
   "language": "python",
   "name": "python3"
  },
  "language_info": {
   "codemirror_mode": {
    "name": "ipython",
    "version": 3
   },
   "file_extension": ".py",
   "mimetype": "text/x-python",
   "name": "python",
   "nbconvert_exporter": "python",
   "pygments_lexer": "ipython3",
   "version": "3.11.8"
  }
 },
 "nbformat": 4,
 "nbformat_minor": 2
}
