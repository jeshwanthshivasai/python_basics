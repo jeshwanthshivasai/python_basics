{
 "cells": [
  {
   "cell_type": "code",
   "execution_count": 6,
   "metadata": {},
   "outputs": [
    {
     "name": "stdout",
     "output_type": "stream",
     "text": [
      "I'm learning Functions.\n"
     ]
    }
   ],
   "source": [
    "#Try_it_yourself\n",
    "#8-1 (Message)\n",
    "def display_message():\n",
    "    message = \"I'm learning Functions.\"\n",
    "    print(message)\n",
    "display_message()"
   ]
  },
  {
   "cell_type": "code",
   "execution_count": 3,
   "metadata": {},
   "outputs": [
    {
     "name": "stdout",
     "output_type": "stream",
     "text": [
      "One of my favourite books is Life of Pi.\n"
     ]
    }
   ],
   "source": [
    "#Try_it_yourself\n",
    "#8-2 (Favourite_Book)\n",
    "def favourite_book(title):\n",
    "    print(f\"One of my favourite books is {title}.\")\n",
    "favourite_book('Life of Pi')"
   ]
  },
  {
   "cell_type": "code",
   "execution_count": 7,
   "metadata": {},
   "outputs": [
    {
     "name": "stdout",
     "output_type": "stream",
     "text": [
      "The size of the tshirt is medium and text printed on it is Life of Pi.\n",
      "The size of the tshirt is large and text printed on it is Life of Pi.\n"
     ]
    }
   ],
   "source": [
    "#Try_it_yourself\n",
    "#8-3 (T-Shirt)\n",
    "def make_shirt(size, text):\n",
    "    print(f\"The size of the tshirt is {size} and text printed on it is {text}.\")\n",
    "make_shirt('medium', 'Life of Pi')\n",
    "make_shirt(size='large', text='Life of Pi')"
   ]
  },
  {
   "cell_type": "code",
   "execution_count": 8,
   "metadata": {},
   "outputs": [
    {
     "name": "stdout",
     "output_type": "stream",
     "text": [
      "The size of the tshirt is large and text printed on it is Life of Pi.\n",
      "The size of the tshirt is medium and text printed on it is Life of Pi.\n",
      "The size of the tshirt is small and text printed on it is I love Python.\n"
     ]
    }
   ],
   "source": [
    "#Try_it_yourself\n",
    "#8-4 (Large_Shirt)\n",
    "def make_shirt(size = 'large', text = 'Life of Pi'):\n",
    "    print(f\"The size of the tshirt is {size} and text printed on it is {text}.\")\n",
    "make_shirt()\n",
    "make_shirt('medium')\n",
    "make_shirt(size='small', text='I love Python')\n",
    "\n"
   ]
  },
  {
   "cell_type": "code",
   "execution_count": 11,
   "metadata": {},
   "outputs": [
    {
     "name": "stdout",
     "output_type": "stream",
     "text": [
      "The city Hyderabad is in India.\n",
      "The city Mysore is in India.\n",
      "The city Dallas is in Texas.\n"
     ]
    }
   ],
   "source": [
    "#Try_it_yourself\n",
    "#8-5 (Cities)\n",
    "def describe_city(name, country = 'India'):\n",
    "    print(f\"The city {name} is in {country}.\")\n",
    "describe_city(name = 'Hyderabad')\n",
    "describe_city(name = 'Mysore')\n",
    "describe_city(name = 'Dallas', country = 'Texas')"
   ]
  },
  {
   "cell_type": "code",
   "execution_count": null,
   "metadata": {},
   "outputs": [],
   "source": [
    "#Try_it_yourself\n",
    "#8-8 ()\n",
    "\n",
    "\n"
   ]
  },
  {
   "cell_type": "code",
   "execution_count": null,
   "metadata": {},
   "outputs": [],
   "source": [
    "#Try_it_yourself\n",
    "#8-9 ()\n"
   ]
  },
  {
   "cell_type": "code",
   "execution_count": null,
   "metadata": {},
   "outputs": [],
   "source": [
    "#Try_it_yourself\n",
    "#8-10 ()\n"
   ]
  }
 ],
 "metadata": {
  "kernelspec": {
   "display_name": "Python 3",
   "language": "python",
   "name": "python3"
  },
  "language_info": {
   "codemirror_mode": {
    "name": "ipython",
    "version": 3
   },
   "file_extension": ".py",
   "mimetype": "text/x-python",
   "name": "python",
   "nbconvert_exporter": "python",
   "pygments_lexer": "ipython3",
   "version": "3.11.8"
  }
 },
 "nbformat": 4,
 "nbformat_minor": 2
}
