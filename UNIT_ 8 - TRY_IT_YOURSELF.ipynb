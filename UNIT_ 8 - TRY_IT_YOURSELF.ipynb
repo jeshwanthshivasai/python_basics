{
 "cells": [
  {
   "cell_type": "code",
   "execution_count": 6,
   "metadata": {},
   "outputs": [
    {
     "name": "stdout",
     "output_type": "stream",
     "text": [
      "I'm learning Functions.\n"
     ]
    }
   ],
   "source": [
    "#Try_it_yourself\n",
    "#8-1 (Message)\n",
    "def display_message():\n",
    "    message = \"I'm learning Functions.\"\n",
    "    print(message)\n",
    "display_message()"
   ]
  },
  {
   "cell_type": "code",
   "execution_count": 3,
   "metadata": {},
   "outputs": [
    {
     "name": "stdout",
     "output_type": "stream",
     "text": [
      "One of my favourite books is Life of Pi.\n"
     ]
    }
   ],
   "source": [
    "#Try_it_yourself\n",
    "#8-2 (Favourite_Book)\n",
    "def favourite_book(title):\n",
    "    print(f\"One of my favourite books is {title}.\")\n",
    "favourite_book('Life of Pi')"
   ]
  },
  {
   "cell_type": "code",
   "execution_count": 7,
   "metadata": {},
   "outputs": [
    {
     "name": "stdout",
     "output_type": "stream",
     "text": [
      "The size of the tshirt is medium and text printed on it is Life of Pi.\n",
      "The size of the tshirt is large and text printed on it is Life of Pi.\n"
     ]
    }
   ],
   "source": [
    "#Try_it_yourself\n",
    "#8-3 (T-Shirt)\n",
    "def make_shirt(size, text):\n",
    "    print(f\"The size of the tshirt is {size} and text printed on it is {text}.\")\n",
    "make_shirt('medium', 'Life of Pi')\n",
    "make_shirt(size='large', text='Life of Pi')"
   ]
  },
  {
   "cell_type": "code",
   "execution_count": 8,
   "metadata": {},
   "outputs": [
    {
     "name": "stdout",
     "output_type": "stream",
     "text": [
      "The size of the tshirt is large and text printed on it is Life of Pi.\n",
      "The size of the tshirt is medium and text printed on it is Life of Pi.\n",
      "The size of the tshirt is small and text printed on it is I love Python.\n"
     ]
    }
   ],
   "source": [
    "#Try_it_yourself\n",
    "#8-4 (Large_Shirt)\n",
    "def make_shirt(size = 'large', text = 'Life of Pi'):\n",
    "    print(f\"The size of the tshirt is {size} and text printed on it is {text}.\")\n",
    "make_shirt()\n",
    "make_shirt('medium')\n",
    "make_shirt(size='small', text='I love Python')\n",
    "\n"
   ]
  },
  {
   "cell_type": "code",
   "execution_count": 11,
   "metadata": {},
   "outputs": [
    {
     "name": "stdout",
     "output_type": "stream",
     "text": [
      "The city Hyderabad is in India.\n",
      "The city Mysore is in India.\n",
      "The city Dallas is in Texas.\n"
     ]
    }
   ],
   "source": [
    "#Try_it_yourself\n",
    "#8-5 (Cities)\n",
    "def describe_city(name, country = 'India'):\n",
    "    print(f\"The city {name} is in {country}.\")\n",
    "describe_city(name = 'Hyderabad')\n",
    "describe_city(name = 'Mysore')\n",
    "describe_city(name = 'Dallas', country = 'Texas')"
   ]
  },
  {
   "cell_type": "code",
   "execution_count": 1,
   "metadata": {},
   "outputs": [
    {
     "name": "stdout",
     "output_type": "stream",
     "text": [
      "Hyderabad,India\n",
      "Dallas,Texas\n",
      "New York,Usa\n"
     ]
    }
   ],
   "source": [
    "#Try_it_yourself\n",
    "#8-6 (City_Names)\n",
    "def city_country(city, country):\n",
    "    return(city.title() + \",\" + country.title())\n",
    "city = city_country('Hyderabad', 'India')\n",
    "print(city)\n",
    "city = city_country('Dallas', 'Texas')\n",
    "print(city)\n",
    "city = city_country('New York', 'USA')\n",
    "print(city)\n",
    "                    \n",
    "                    "
   ]
  },
  {
   "cell_type": "code",
   "execution_count": 4,
   "metadata": {},
   "outputs": [
    {
     "name": "stdout",
     "output_type": "stream",
     "text": [
      "{'artist': 'Odesza', 'title': 'Moment Apart', 'number': 'None'}\n",
      "{'artist': 'The Weeknd', 'title': 'Dawnfm', 'number': 16}\n",
      "{'artist': 'Sg Lewis', 'title': 'Dawn', 'number': 'None'}\n"
     ]
    }
   ],
   "source": [
    "#Try_it_yourself\n",
    "#8-7 (Album)\n",
    "def make_album(artist_name, album_title, number = 'None'):\n",
    "    album = {\n",
    "        'artist' : artist_name.title(),\n",
    "        'title' : album_title.title(),\n",
    "    }\n",
    "    if number:\n",
    "        album['number'] = number\n",
    "    return album\n",
    "album = make_album('Odesza', 'Moment Apart')\n",
    "print(album)\n",
    "album = make_album('The Weeknd', 'DawnFM', number=16)\n",
    "print(album)\n",
    "album = make_album('SG Lewis', 'Dawn')\n",
    "print(album)"
   ]
  },
  {
   "cell_type": "code",
   "execution_count": 1,
   "metadata": {},
   "outputs": [
    {
     "name": "stdout",
     "output_type": "stream",
     "text": [
      "\n",
      "Who's the artist? : \n",
      "Enter 'q' to quit\n",
      "{'artist': 'Odesza', 'title': '', 'number': 'None'}\n",
      "{'artist': 'Amoment Apart', 'title': '', 'number': 'None'}\n",
      "{'artist': '', 'title': '5', 'number': 'None'}\n",
      "\n",
      "Thanks for Responding.\n"
     ]
    }
   ],
   "source": [
    "#Try_it_yourself\n",
    "#8-8 (User_Album)\n",
    "def make_album(artist_name, album_title, number = 'None'):\n",
    "    album = {\n",
    "        'artist' : artist_name.title(),\n",
    "        'title' : album_title.title(),\n",
    "    }\n",
    "    if number:\n",
    "        album['number'] = number\n",
    "    return album\n",
    "\n",
    "title_prompt = (\"\\nAn album in your head? : \")\n",
    "artist_prompt = print(\"\\nWho's the artist? : \")\n",
    "print((\"Enter 'q' to quit\"))\n",
    "\n",
    "while True:\n",
    "    album_title = input(title_prompt)\n",
    "    if album_title == 'q':\n",
    "        break\n",
    "    artist_name = input(artist_prompt)\n",
    "    if artist_name == 'q':\n",
    "        break\n",
    "    \n",
    "    album = make_album(artist_name, album_title)\n",
    "    print(album)\n",
    "print(\"\\nThanks for Responding.\")"
   ]
  },
  {
   "cell_type": "code",
   "execution_count": 11,
   "metadata": {},
   "outputs": [
    {
     "name": "stdout",
     "output_type": "stream",
     "text": [
      "Hey, what's up?\n",
      "Just checking in.\n",
      "Did you hear about the new restaurant?\n",
      "Remember to buy milk on your way home!\n",
      "Don't forget about the meeting tomorrow.\n",
      "Hope you're having a great day!\n",
      "I'll be there in 10 minutes.\n",
      "Can you pick up the dry cleaning?\n",
      "Don't worry, everything will be fine.\n",
      "Let's catch up soon!\n"
     ]
    }
   ],
   "source": [
    "#Try_it_yourself\n",
    "#8-9 (Messages)\n",
    "text_messages = [\n",
    "    \"Hey, what's up?\",\n",
    "    \"Just checking in.\",\n",
    "    \"Did you hear about the new restaurant?\",\n",
    "    \"Remember to buy milk on your way home!\",\n",
    "    \"Don't forget about the meeting tomorrow.\",\n",
    "    \"Hope you're having a great day!\",\n",
    "    \"I'll be there in 10 minutes.\",\n",
    "    \"Can you pick up the dry cleaning?\",\n",
    "    \"Don't worry, everything will be fine.\",\n",
    "    \"Let's catch up soon!\",\n",
    "]\n",
    "def show_messages(text_message):\n",
    "    for text in text_message:\n",
    "        print(text)\n",
    "show_messages(text_messages)\n",
    "    "
   ]
  },
  {
   "cell_type": "code",
   "execution_count": 12,
   "metadata": {},
   "outputs": [
    {
     "name": "stdout",
     "output_type": "stream",
     "text": [
      "Sending Message :  [\"Hey, what's up?\", 'Just checking in.', 'Did you hear about the new restaurant?', 'Remember to buy milk on your way home!', \"Don't forget about the meeting tomorrow.\", \"Hope you're having a great day!\", \"I'll be there in 10 minutes.\", 'Can you pick up the dry cleaning?', \"Don't worry, everything will be fine.\"]\n",
      "Sending Message :  [\"Hey, what's up?\", 'Just checking in.', 'Did you hear about the new restaurant?', 'Remember to buy milk on your way home!', \"Don't forget about the meeting tomorrow.\", \"Hope you're having a great day!\", \"I'll be there in 10 minutes.\", 'Can you pick up the dry cleaning?']\n",
      "Sending Message :  [\"Hey, what's up?\", 'Just checking in.', 'Did you hear about the new restaurant?', 'Remember to buy milk on your way home!', \"Don't forget about the meeting tomorrow.\", \"Hope you're having a great day!\", \"I'll be there in 10 minutes.\"]\n",
      "Sending Message :  [\"Hey, what's up?\", 'Just checking in.', 'Did you hear about the new restaurant?', 'Remember to buy milk on your way home!', \"Don't forget about the meeting tomorrow.\", \"Hope you're having a great day!\"]\n",
      "Sending Message :  [\"Hey, what's up?\", 'Just checking in.', 'Did you hear about the new restaurant?', 'Remember to buy milk on your way home!', \"Don't forget about the meeting tomorrow.\"]\n",
      "Sending Message :  [\"Hey, what's up?\", 'Just checking in.', 'Did you hear about the new restaurant?', 'Remember to buy milk on your way home!']\n",
      "Sending Message :  [\"Hey, what's up?\", 'Just checking in.', 'Did you hear about the new restaurant?']\n",
      "Sending Message :  [\"Hey, what's up?\", 'Just checking in.']\n",
      "Sending Message :  [\"Hey, what's up?\"]\n",
      "Sending Message :  []\n",
      "Original Message : \n",
      "Sent Message : \n",
      "Let's catch up soon!\n",
      "Don't worry, everything will be fine.\n",
      "Can you pick up the dry cleaning?\n",
      "I'll be there in 10 minutes.\n",
      "Hope you're having a great day!\n",
      "Don't forget about the meeting tomorrow.\n",
      "Remember to buy milk on your way home!\n",
      "Did you hear about the new restaurant?\n",
      "Just checking in.\n",
      "Hey, what's up?\n"
     ]
    }
   ],
   "source": [
    "#Try_it_yourself\n",
    "#8-10 (Sending_Messages)\n",
    "def send_messages(messages, sent_messages):\n",
    "     while messages:\n",
    "          message = messages.pop()\n",
    "          print(\"Sending Message : \", messages)\n",
    "          sent_messages.append(message)\n",
    "\n",
    "text_messages = [\n",
    "    \"Hey, what's up?\",\n",
    "    \"Just checking in.\",\n",
    "    \"Did you hear about the new restaurant?\",\n",
    "    \"Remember to buy milk on your way home!\",\n",
    "    \"Don't forget about the meeting tomorrow.\",\n",
    "    \"Hope you're having a great day!\",\n",
    "    \"I'll be there in 10 minutes.\",\n",
    "    \"Can you pick up the dry cleaning?\",\n",
    "    \"Don't worry, everything will be fine.\",\n",
    "    \"Let's catch up soon!\",\n",
    "]\n",
    "sent_messages = []\n",
    "send_messages(text_messages, sent_messages)\n",
    "\n",
    "print(\"Original Message : \")\n",
    "for message in text_messages:\n",
    "     print(message)\n",
    "print(\"Sent Message : \")\n",
    "for message in sent_messages:\n",
    "     print(message)"
   ]
  },
  {
   "cell_type": "code",
   "execution_count": 16,
   "metadata": {},
   "outputs": [
    {
     "name": "stdout",
     "output_type": "stream",
     "text": [
      "Sending Message :  [\"Hey, what's up?\", 'Just checking in.', 'Did you hear about the new restaurant?', 'Remember to buy milk on your way home!', \"Don't forget about the meeting tomorrow.\", \"Hope you're having a great day!\", \"I'll be there in 10 minutes.\", 'Can you pick up the dry cleaning?', \"Don't worry, everything will be fine.\"]\n",
      "Sending Message :  [\"Hey, what's up?\", 'Just checking in.', 'Did you hear about the new restaurant?', 'Remember to buy milk on your way home!', \"Don't forget about the meeting tomorrow.\", \"Hope you're having a great day!\", \"I'll be there in 10 minutes.\", 'Can you pick up the dry cleaning?']\n",
      "Sending Message :  [\"Hey, what's up?\", 'Just checking in.', 'Did you hear about the new restaurant?', 'Remember to buy milk on your way home!', \"Don't forget about the meeting tomorrow.\", \"Hope you're having a great day!\", \"I'll be there in 10 minutes.\"]\n",
      "Sending Message :  [\"Hey, what's up?\", 'Just checking in.', 'Did you hear about the new restaurant?', 'Remember to buy milk on your way home!', \"Don't forget about the meeting tomorrow.\", \"Hope you're having a great day!\"]\n",
      "Sending Message :  [\"Hey, what's up?\", 'Just checking in.', 'Did you hear about the new restaurant?', 'Remember to buy milk on your way home!', \"Don't forget about the meeting tomorrow.\"]\n",
      "Sending Message :  [\"Hey, what's up?\", 'Just checking in.', 'Did you hear about the new restaurant?', 'Remember to buy milk on your way home!']\n",
      "Sending Message :  [\"Hey, what's up?\", 'Just checking in.', 'Did you hear about the new restaurant?']\n",
      "Sending Message :  [\"Hey, what's up?\", 'Just checking in.']\n",
      "Sending Message :  [\"Hey, what's up?\"]\n",
      "Sending Message :  []\n",
      "Original Message : \n",
      "Hey, what's up?\n",
      "Just checking in.\n",
      "Did you hear about the new restaurant?\n",
      "Remember to buy milk on your way home!\n",
      "Don't forget about the meeting tomorrow.\n",
      "Hope you're having a great day!\n",
      "I'll be there in 10 minutes.\n",
      "Can you pick up the dry cleaning?\n",
      "Don't worry, everything will be fine.\n",
      "Let's catch up soon!\n",
      "Sent Message : \n",
      "Let's catch up soon!\n",
      "Don't worry, everything will be fine.\n",
      "Can you pick up the dry cleaning?\n",
      "I'll be there in 10 minutes.\n",
      "Hope you're having a great day!\n",
      "Don't forget about the meeting tomorrow.\n",
      "Remember to buy milk on your way home!\n",
      "Did you hear about the new restaurant?\n",
      "Just checking in.\n",
      "Hey, what's up?\n"
     ]
    }
   ],
   "source": [
    "#Try_it_yourself\n",
    "#8-11 (Archived_Messages)\n",
    "def send_messages(messages, sent_messages):\n",
    "     while messages:\n",
    "          message = messages.pop()\n",
    "          print(\"Sending Message : \", messages)\n",
    "          sent_messages.append(message)\n",
    "\n",
    "text_messages = [\n",
    "    \"Hey, what's up?\",\n",
    "    \"Just checking in.\",\n",
    "    \"Did you hear about the new restaurant?\",\n",
    "    \"Remember to buy milk on your way home!\",\n",
    "    \"Don't forget about the meeting tomorrow.\",\n",
    "    \"Hope you're having a great day!\",\n",
    "    \"I'll be there in 10 minutes.\",\n",
    "    \"Can you pick up the dry cleaning?\",\n",
    "    \"Don't worry, everything will be fine.\",\n",
    "    \"Let's catch up soon!\",\n",
    "]\n",
    "\n",
    "sent_messages = []\n",
    "send_messages(text_messages[:], sent_messages)\n",
    "\n",
    "print(\"Original Message : \")\n",
    "for message in text_messages:\n",
    "     print(message)\n",
    "print(\"Sent Message : \")\n",
    "for message in sent_messages:\n",
    "     print(message)"
   ]
  }
 ],
 "metadata": {
  "kernelspec": {
   "display_name": "Python 3",
   "language": "python",
   "name": "python3"
  },
  "language_info": {
   "codemirror_mode": {
    "name": "ipython",
    "version": 3
   },
   "file_extension": ".py",
   "mimetype": "text/x-python",
   "name": "python",
   "nbconvert_exporter": "python",
   "pygments_lexer": "ipython3",
   "version": "3.11.8"
  }
 },
 "nbformat": 4,
 "nbformat_minor": 2
}
