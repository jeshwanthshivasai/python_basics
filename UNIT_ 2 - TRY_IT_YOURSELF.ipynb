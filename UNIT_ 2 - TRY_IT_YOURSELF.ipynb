{
 "cells": [
  {
   "cell_type": "code",
   "execution_count": 2,
   "metadata": {},
   "outputs": [
    {
     "name": "stdout",
     "output_type": "stream",
     "text": [
      "jeshwanthshivasai\n"
     ]
    }
   ],
   "source": [
    "#Try_it_yourself\n",
    "#2-1 (Simple_message)\n",
    "goodname = \"jeshwanthshivasai\"\n",
    "print(goodname)"
   ]
  },
  {
   "cell_type": "code",
   "execution_count": 1,
   "metadata": {},
   "outputs": [
    {
     "name": "stdout",
     "output_type": "stream",
     "text": [
      "jesse\n"
     ]
    }
   ],
   "source": [
    "#Try_it_yourself\n",
    "#2-2 (Simple_messages)\n",
    "goodname = \"jeshwanthshivasai\"\n",
    "goodname = \"jesse\"\n",
    "print(goodname)"
   ]
  },
  {
   "cell_type": "code",
   "execution_count": 1,
   "metadata": {},
   "outputs": [
    {
     "name": "stdout",
     "output_type": "stream",
     "text": [
      "You'll be a good companion, Ramya Naidu!\n"
     ]
    }
   ],
   "source": [
    "#Try_it_yourself\n",
    "#2-3 (Personal_message)\n",
    "firstname = \"ramya\"\n",
    "lastname = \"naidu\"\n",
    "fullname = f\"{firstname} {lastname}\"\n",
    "message = f\"You'll be a good companion, {fullname.title()}!\"\n",
    "print(message)"
   ]
  },
  {
   "cell_type": "code",
   "execution_count": 3,
   "metadata": {},
   "outputs": [
    {
     "name": "stdout",
     "output_type": "stream",
     "text": [
      "ramya naidu\n",
      "RAMYA NAIDU\n",
      "Ramya Naidu\n"
     ]
    }
   ],
   "source": [
    "#Try_it_yourself\n",
    "#2-4 (Name_cases)\n",
    "firstname = \"ramya\"\n",
    "lastname = \"naidu\"\n",
    "fullname = f\"{firstname} {lastname}\"\n",
    "print(fullname.lower())\n",
    "print(fullname.upper())\n",
    "print(fullname.title())"
   ]
  },
  {
   "cell_type": "code",
   "execution_count": 39,
   "metadata": {},
   "outputs": [
    {
     "name": "stdout",
     "output_type": "stream",
     "text": [
      "Ramya Naidu \"Bondam laaga bayata nunchi gattiga lopala metthaga undandi\"\n"
     ]
    }
   ],
   "source": [
    "#Try_it_yourself\n",
    "#2-5 (Famous_quote - 1)\n",
    "famous_person = \"Ramya Naidu\"\n",
    "quote = '\"Bondam laaga bayata nunchi gattiga lopala metthaga undandi\"'\n",
    "print(famous_person, quote)"
   ]
  },
  {
   "cell_type": "code",
   "execution_count": 31,
   "metadata": {},
   "outputs": [
    {
     "name": "stdout",
     "output_type": "stream",
     "text": [
      "Her Majesty, The Greateast of the great, 'Ramya Naidu' once said \"Bondam laaga bayata nunchi gattiga lopala metthaga undandi\".\n"
     ]
    }
   ],
   "source": [
    "#Try_it_yourself\n",
    "#2-6 (Famous_quote - 2)\n",
    "firstname = \"ramya\"\n",
    "lastname = \"naidu\"\n",
    "famous_person = f\"'{firstname} {lastname}'\"\n",
    "famous_quote = '\"Bondam laaga bayata nunchi gattiga lopala metthaga undandi\"'\n",
    "message = f\"Her Majesty, The Greateast of the great, {famous_person.title()} once said {famous_quote}.\"\n",
    "print(message)"
   ]
  },
  {
   "cell_type": "code",
   "execution_count": 13,
   "metadata": {},
   "outputs": [
    {
     "name": "stdout",
     "output_type": "stream",
     "text": [
      "with whitespace :  \t\n",
      "  rahul_siddharth  \n",
      "\t\n",
      "with lstrip :  rahul_siddharth  \n",
      "\t\n",
      "with rstrip :  \t\n",
      "  rahul_siddharth\n",
      "with strip :  rahul_siddharth\n"
     ]
    }
   ],
   "source": [
    "#Try_it_yourself\n",
    "#2-7 (Stripping_names)\n",
    "name = \"\\t\\n  rahul_siddharth  \\n\\t\"\n",
    "print(\"with whitespace : \", name)\n",
    "print(\"with lstrip : \", name.lstrip())\n",
    "print(\"with rstrip : \", name.rstrip())\n",
    "print(\"with strip : \", name.strip())"
   ]
  },
  {
   "cell_type": "code",
   "execution_count": 17,
   "metadata": {},
   "outputs": [
    {
     "name": "stdout",
     "output_type": "stream",
     "text": [
      "python_notes\n"
     ]
    }
   ],
   "source": [
    "#Try_it_yourself\n",
    "#2-8 (File_extension)\n",
    "filename = 'python_notes.txt'\n",
    "actualname = filename.removesuffix('.txt')\n",
    "print(actualname)"
   ]
  },
  {
   "cell_type": "code",
   "execution_count": 3,
   "metadata": {},
   "outputs": [
    {
     "name": "stdout",
     "output_type": "stream",
     "text": [
      "8\n",
      "8\n",
      "8\n",
      "8.0\n"
     ]
    }
   ],
   "source": [
    "#Try_it_yourself\n",
    "#2-9 (Number_eight)\n",
    "print(4+4)\n",
    "print(12-4)\n",
    "print(4*2)\n",
    "print(72/9)"
   ]
  },
  {
   "cell_type": "code",
   "execution_count": 4,
   "metadata": {},
   "outputs": [
    {
     "name": "stdout",
     "output_type": "stream",
     "text": [
      "2\n"
     ]
    }
   ],
   "source": [
    "#Try_it_yourself\n",
    "#2-10 (Favourite_number)\n",
    "favourite_number = 2\n",
    "message = favourite_number\n",
    "print(favourite_number)"
   ]
  },
  {
   "cell_type": "code",
   "execution_count": 14,
   "metadata": {},
   "outputs": [
    {
     "name": "stdout",
     "output_type": "stream",
     "text": [
      "jess was born on 29012024\n"
     ]
    }
   ],
   "source": [
    "#Try_it_yourself\n",
    "#2-11 (Adding_comments)\n",
    "#type_your_name\n",
    "name = \"jess\"\n",
    "date = 29_01_2024\n",
    "#prints my name and dob\n",
    "print(name, 'was born on', date)"
   ]
  },
  {
   "cell_type": "code",
   "execution_count": 15,
   "metadata": {},
   "outputs": [
    {
     "name": "stdout",
     "output_type": "stream",
     "text": [
      "The Zen of Python, by Tim Peters\n",
      "\n",
      "Beautiful is better than ugly.\n",
      "Explicit is better than implicit.\n",
      "Simple is better than complex.\n",
      "Complex is better than complicated.\n",
      "Flat is better than nested.\n",
      "Sparse is better than dense.\n",
      "Readability counts.\n",
      "Special cases aren't special enough to break the rules.\n",
      "Although practicality beats purity.\n",
      "Errors should never pass silently.\n",
      "Unless explicitly silenced.\n",
      "In the face of ambiguity, refuse the temptation to guess.\n",
      "There should be one-- and preferably only one --obvious way to do it.\n",
      "Although that way may not be obvious at first unless you're Dutch.\n",
      "Now is better than never.\n",
      "Although never is often better than *right* now.\n",
      "If the implementation is hard to explain, it's a bad idea.\n",
      "If the implementation is easy to explain, it may be a good idea.\n",
      "Namespaces are one honking great idea -- let's do more of those!\n"
     ]
    }
   ],
   "source": [
    "#Try_it_yourself\n",
    "#2-12 (zen_of_python)\n",
    "import this"
   ]
  }
 ],
 "metadata": {
  "kernelspec": {
   "display_name": "env",
   "language": "python",
   "name": "python3"
  },
  "language_info": {
   "codemirror_mode": {
    "name": "ipython",
    "version": 3
   },
   "file_extension": ".py",
   "mimetype": "text/x-python",
   "name": "python",
   "nbconvert_exporter": "python",
   "pygments_lexer": "ipython3",
   "version": "3.11.8"
  }
 },
 "nbformat": 4,
 "nbformat_minor": 2
}
