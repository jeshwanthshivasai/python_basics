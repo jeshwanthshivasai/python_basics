{
 "cells": [
  {
   "cell_type": "code",
   "execution_count": 18,
   "metadata": {},
   "outputs": [
    {
     "name": "stdout",
     "output_type": "stream",
     "text": [
      "I love Margherita\n",
      "\n",
      "I love Cheeseburst\n",
      "\n",
      "I love Thincrust\n",
      "\n",
      "I love Freshsauce\n",
      "\n",
      "My Dream is to go and have pizza in italy with my wife.\n",
      "\n",
      "I'm fedup having pizzas in India and I feel they ain't the worth.\n",
      "\n"
     ]
    }
   ],
   "source": [
    "#Try_it_yourself\n",
    "#4-1 (Pizzas)\n",
    "pizzas = ['margherita', 'cheeseburst', 'thincrust', 'freshsauce']\n",
    "for pizza in pizzas:\n",
    "    print(f'I love {pizza.title()}\\n')\n",
    "print('My Dream is to go and have pizza in italy with my wife.\\n')\n",
    "print(\"I'm fedup having pizzas in India and I feel they ain't the worth.\\n\")"
   ]
  },
  {
   "cell_type": "code",
   "execution_count": 31,
   "metadata": {},
   "outputs": [
    {
     "name": "stdout",
     "output_type": "stream",
     "text": [
      "one of the pet animals is Dog.\n",
      "one of the pet animals is Cat.\n",
      "one of the pet animals is Hen.\n",
      "one of the pet animals is Horse.\n",
      "And i love all of 'em.\n"
     ]
    }
   ],
   "source": [
    "#Try_it_yourself\n",
    "#4-2 (Animals)\n",
    "animals = ['dog', 'cat', 'hen', 'horse']\n",
    "for animal in animals:\n",
    "    print(f\"one of the pet animals is {animal.title()}.\")\n",
    "\n",
    "print(\"And i love all of 'em.\")"
   ]
  }
 ],
 "metadata": {
  "kernelspec": {
   "display_name": "Python 3",
   "language": "python",
   "name": "python3"
  },
  "language_info": {
   "name": "python",
   "version": "3.11.8"
  }
 },
 "nbformat": 4,
 "nbformat_minor": 2
}
