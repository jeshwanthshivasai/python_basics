{
 "cells": [
  {
   "cell_type": "code",
   "execution_count": null,
   "metadata": {},
   "outputs": [],
   "source": [
    "#Try_it_yourself\n",
    "#6-1 (Person)\n",
    "person = {\n",
    "    'first_name' : 'Ramya',\n",
    "    'last_name' : 'Naidu',\n",
    "    'age' : 24,\n",
    "    'city' : 'Mysore',\n",
    "}\n",
    "print(person)"
   ]
  },
  {
   "cell_type": "code",
   "execution_count": null,
   "metadata": {},
   "outputs": [],
   "source": [
    "#Try_it_yourself\n",
    "#6-2 (Favourite_Numbers)\n",
    "names = {\n",
    "    'jess' : 2,\n",
    "    'yogi' : 3,\n",
    "    'ramya' : 4,\n",
    "    'varsha' : 5,\n",
    "}\n",
    "print(names)"
   ]
  },
  {
   "cell_type": "code",
   "execution_count": null,
   "metadata": {},
   "outputs": [],
   "source": [
    "#Try_it_yourself\n",
    "#6-3 (Glossary)\n",
    "words = {\n",
    "    'variable': 'A placeholder for storing data values.',\n",
    "    'function': 'A block of code that only runs when it is called.',\n",
    "    'list': 'A collection which is ordered and changeable. Allows duplicate members.',\n",
    "    'loop': 'A programming construct that repeats a sequence of instructions until a specific condition is met.',\n",
    "    'dictionary': 'A collection which is unordered, changeable, and indexed. No duplicate members.'\n",
    "}\n",
    "print('variable:', words['variable'], \"\\n\")\n",
    "print('function:', words['function'], \"\\n\")\n",
    "print('list:', words['list'], \"\\n\")\n",
    "print('loop:', words['loop'], \"\\n\")\n",
    "print('dictionary:', words['dictionary'], \"\\n\")"
   ]
  },
  {
   "cell_type": "code",
   "execution_count": null,
   "metadata": {},
   "outputs": [],
   "source": [
    "#Try_it_yourself\n",
    "#6-4 (Glossary_2)\n",
    "words = {\n",
    "    'variable': 'A placeholder for storing data values.',\n",
    "    'function': 'A block of code that only runs when it is called.',\n",
    "    'list': 'A collection which is ordered and changeable. Allows duplicate members.',\n",
    "    'loop': 'A programming construct that repeats a sequence of instructions until a specific condition is met.',\n",
    "    'dictionary': 'A collection which is unordered, changeable, and indexed. No duplicate members.'\n",
    "}\n",
    "for name, meaning in words.items():\n",
    "    print(f\"{name.title()} means {meaning}\\n\")"
   ]
  },
  {
   "cell_type": "code",
   "execution_count": null,
   "metadata": {},
   "outputs": [],
   "source": [
    "#Try_it_yourself\n",
    "#6-6 (Rivers)\n",
    "rivers = {\n",
    "    'nile' : 'egypt',\n",
    "    'ganga' : 'india',\n",
    "    'mississippi' : 'United States of america',\n",
    "}\n",
    "for river, country in rivers.items():\n",
    "    print(f\"The {river.title()} flows in {country.title()}.\")\n",
    "\n",
    "for river in rivers.keys():\n",
    "    print(f\"{river.title()}\")\n",
    "\n",
    "for country in rivers.values():\n",
    "    print(f\"{country.title()}\")"
   ]
  },
  {
   "cell_type": "code",
   "execution_count": null,
   "metadata": {},
   "outputs": [],
   "source": [
    "#Try_it_yourself\n",
    "#6-6 (Polling)\n",
    "people = {\n",
    "    'jess' : 'Python',\n",
    "    'yogi' : 'Java',\n",
    "    'kc' : 'C',\n",
    "    'sathwik' : 'JavaScript',\n",
    "}\n",
    "nopoll = {'damu' , 'varsha', 'jess', 'yogi'}\n",
    "\n",
    "for name in nopoll:\n",
    "    if name in people:\n",
    "        print(f\"{name.title()} thanks!\")\n",
    "    else:\n",
    "        print(f\"{name.title()} please poll. damn it.\")\n",
    "\n",
    "\n"
   ]
  },
  {
   "cell_type": "code",
   "execution_count": null,
   "metadata": {},
   "outputs": [],
   "source": [
    "#Try_it_yourself\n",
    "#6-7 (People)\n",
    "person1 = {\n",
    "    'first_name' : 'Ramya',\n",
    "    'last_name' : 'Naidu',\n",
    "    'age' : 24,\n",
    "    'city' : 'Mysore',\n",
    "}\n",
    "\n",
    "person2 = {\n",
    "    'first_name' : 'jeshwanth',\n",
    "    'last_name' : 'shiva_sai',\n",
    "    'age' : 25,\n",
    "    'city' : 'Hyderabad',\n",
    "}\n",
    "\n",
    "person3 = {\n",
    "    'first_name' : 'Chitti',\n",
    "    'last_name' : 'Naidu',\n",
    "    'age' : 23,\n",
    "    'city' : 'Hyderabad',\n",
    "}\n",
    "people = [person1, person2, person3]\n",
    "for person in people:\n",
    "    print(person)"
   ]
  },
  {
   "cell_type": "code",
   "execution_count": null,
   "metadata": {},
   "outputs": [],
   "source": [
    "#Try_it_yourself\n",
    "#6-8 (Pets)\n",
    "pet1 = {\n",
    "    'name' : 'jess',\n",
    "    'breed' : 'pomerenian',\n",
    "}\n",
    "pet2 = {\n",
    "    'name' : 'suhas',\n",
    "    'breed' : 'labrador',\n",
    "}\n",
    "pets = [pet1, pet2]\n",
    "for pet in pets:\n",
    "    print(f\"{pet['name'].title()} loves his {pet['breed'].title()}.\")\n",
    "\n"
   ]
  },
  {
   "cell_type": "code",
   "execution_count": null,
   "metadata": {},
   "outputs": [],
   "source": [
    "#Try_it_yourself\n",
    "#6-9 (Favorite_Places)\n",
    "favorite_places = {\n",
    "    'jess' : ['italy', 'hawaii', 'madagascar'],\n",
    "    'yogi' : ['melbourne', 'chile', 'switzerland'],\n",
    "    'suhas' : ['russia', 'london', 'egypt'],\n",
    "}\n",
    "for name, place in favorite_places.items():\n",
    "    print(f\"\\n{name.title()}'s favorite places:\")\n",
    "    for place in place:\n",
    "        print(f\"{place.title()}\")"
   ]
  },
  {
   "cell_type": "code",
   "execution_count": 3,
   "metadata": {},
   "outputs": [
    {
     "name": "stdout",
     "output_type": "stream",
     "text": [
      "\n",
      "Jess's favorite numbers are:\n",
      "2\n",
      "3\n",
      "4\n",
      "\n",
      "Yogi's favorite numbers are:\n",
      "5\n",
      "6\n",
      "7\n",
      "\n",
      "Ramya's favorite numbers are:\n",
      "8\n",
      "9\n",
      "10\n",
      "\n",
      "Varsha's favorite numbers are:\n",
      "11\n",
      "12\n",
      "13\n"
     ]
    }
   ],
   "source": [
    "#Try_it_yourself\n",
    "#6-10 (Favorite_Numbers)\n",
    "names = {\n",
    "    'jess' : [2, 3, 4],\n",
    "    'yogi' : [5, 6, 7],\n",
    "    'ramya' : [8, 9, 10],\n",
    "    'varsha' : [11, 12, 13],\n",
    "}\n",
    "for name, num in names.items():\n",
    "    print(f\"\\n{name.title()}'s favorite numbers are:\")\n",
    "    for num in num:\n",
    "        print(f\"{num}\")"
   ]
  },
  {
   "cell_type": "code",
   "execution_count": 6,
   "metadata": {},
   "outputs": [
    {
     "name": "stdout",
     "output_type": "stream",
     "text": [
      "\n",
      "The city India which is located in India which has a population of 40 Million and is the best city\n",
      "\n",
      "The city France which is located in France which has a population of 10 Million and is the beautiful city\n",
      "\n",
      "The city Egypt which is located in Egypt which has a population of 5 Million and is the old city\n"
     ]
    }
   ],
   "source": [
    "#Try_it_yourself\n",
    "#6-11 (Cities)\n",
    "cities = {\n",
    "    'hyderabad' : {\n",
    "        'country' : 'india',\n",
    "        'population' : '40 million',\n",
    "        'fact' : 'best city',\n",
    "    },\n",
    "    'italy' : {\n",
    "        'country' : 'france',\n",
    "        'population' : '10 million',\n",
    "        'fact' : 'beautiful city',\n",
    "    },\n",
    "    'cairo' : {\n",
    "        'country' : 'egypt',\n",
    "        'population' : '5 million',\n",
    "        'fact' : 'old city',\n",
    "    },\n",
    "}\n",
    "for city, info in cities.items():\n",
    "    country = info['country']\n",
    "    population = info['population']\n",
    "    fact = info['fact']\n",
    "    print(f\"\\nThe city {country.title()} which is located in {country.title()} which has a population of {population.title()} and is the {fact}\")"
   ]
  }
 ],
 "metadata": {
  "kernelspec": {
   "display_name": "Python 3",
   "language": "python",
   "name": "python3"
  },
  "language_info": {
   "codemirror_mode": {
    "name": "ipython",
    "version": 3
   },
   "file_extension": ".py",
   "mimetype": "text/x-python",
   "name": "python",
   "nbconvert_exporter": "python",
   "pygments_lexer": "ipython3",
   "version": "3.11.8"
  }
 },
 "nbformat": 4,
 "nbformat_minor": 2
}
