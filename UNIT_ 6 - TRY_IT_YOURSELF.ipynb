{
 "cells": [
  {
   "cell_type": "code",
   "execution_count": 1,
   "metadata": {},
   "outputs": [
    {
     "name": "stdout",
     "output_type": "stream",
     "text": [
      "{'first_name': 'Ramya', 'last_name': 'Naidu', 'age': 24, 'city': 'Mysore'}\n"
     ]
    }
   ],
   "source": [
    "#Try_it_yourself\n",
    "#6-1 (Person)\n",
    "person = {\n",
    "    'first_name' : 'Ramya',\n",
    "    'last_name' : 'Naidu',\n",
    "    'age' : 24,\n",
    "    'city' : 'Mysore',\n",
    "}\n",
    "print(person)"
   ]
  },
  {
   "cell_type": "code",
   "execution_count": 3,
   "metadata": {},
   "outputs": [
    {
     "name": "stdout",
     "output_type": "stream",
     "text": [
      "{'jess': 2, 'yogi': 3, 'ramya': 4, 'varsha': 5}\n"
     ]
    }
   ],
   "source": [
    "#Try_it_yourself\n",
    "#6-2 (Favourite_Numbers)\n",
    "names = {\n",
    "    'jess' : 2,\n",
    "    'yogi' : 3,\n",
    "    'ramya' : 4,\n",
    "    'varsha' : 5,\n",
    "}\n",
    "print(names)"
   ]
  },
  {
   "cell_type": "code",
   "execution_count": 12,
   "metadata": {},
   "outputs": [
    {
     "name": "stdout",
     "output_type": "stream",
     "text": [
      "variable: A placeholder for storing data values. \n",
      "\n",
      "function: A block of code that only runs when it is called. \n",
      "\n",
      "list: A collection which is ordered and changeable. Allows duplicate members. \n",
      "\n",
      "loop: A programming construct that repeats a sequence of instructions until a specific condition is met. \n",
      "\n",
      "dictionary: A collection which is unordered, changeable, and indexed. No duplicate members. \n",
      "\n"
     ]
    }
   ],
   "source": [
    "#Try_it_yourself\n",
    "#6-3 (Glossary)\n",
    "words = {\n",
    "    'variable': 'A placeholder for storing data values.',\n",
    "    'function': 'A block of code that only runs when it is called.',\n",
    "    'list': 'A collection which is ordered and changeable. Allows duplicate members.',\n",
    "    'loop': 'A programming construct that repeats a sequence of instructions until a specific condition is met.',\n",
    "    'dictionary': 'A collection which is unordered, changeable, and indexed. No duplicate members.'\n",
    "}\n",
    "print('variable:', words['variable'], \"\\n\")\n",
    "print('function:', words['function'], \"\\n\")\n",
    "print('list:', words['list'], \"\\n\")\n",
    "print('loop:', words['loop'], \"\\n\")\n",
    "print('dictionary:', words['dictionary'], \"\\n\")"
   ]
  },
  {
   "cell_type": "code",
   "execution_count": null,
   "metadata": {},
   "outputs": [],
   "source": [
    "#Try_it_yourself\n",
    "#6-4 (Glossary_2)\n"
   ]
  },
  {
   "cell_type": "code",
   "execution_count": null,
   "metadata": {},
   "outputs": [],
   "source": [
    "#Try_it_yourself\n",
    "#6-6 ()"
   ]
  },
  {
   "cell_type": "code",
   "execution_count": null,
   "metadata": {},
   "outputs": [],
   "source": [
    "#Try_it_yourself\n",
    "#6-6 ()"
   ]
  },
  {
   "cell_type": "code",
   "execution_count": null,
   "metadata": {},
   "outputs": [],
   "source": [
    "#Try_it_yourself\n",
    "#6-7 ()\n"
   ]
  },
  {
   "cell_type": "code",
   "execution_count": null,
   "metadata": {},
   "outputs": [],
   "source": [
    "#Try_it_yourself\n",
    "#6-8 ()\n",
    "\n"
   ]
  },
  {
   "cell_type": "code",
   "execution_count": null,
   "metadata": {},
   "outputs": [],
   "source": [
    "#Try_it_yourself\n",
    "#6-9 ()"
   ]
  },
  {
   "cell_type": "code",
   "execution_count": null,
   "metadata": {},
   "outputs": [],
   "source": [
    "#Try_it_yourself\n",
    "#6-10 ()\n"
   ]
  },
  {
   "cell_type": "code",
   "execution_count": null,
   "metadata": {},
   "outputs": [],
   "source": [
    "#Try_it_yourself\n",
    "#6-11 ()\n",
    "\n"
   ]
  },
  {
   "cell_type": "code",
   "execution_count": null,
   "metadata": {},
   "outputs": [],
   "source": [
    "#Try_it_yourself\n",
    "#6-12 ()"
   ]
  }
 ],
 "metadata": {
  "kernelspec": {
   "display_name": "Python 3",
   "language": "python",
   "name": "python3"
  },
  "language_info": {
   "codemirror_mode": {
    "name": "ipython",
    "version": 3
   },
   "file_extension": ".py",
   "mimetype": "text/x-python",
   "name": "python",
   "nbconvert_exporter": "python",
   "pygments_lexer": "ipython3",
   "version": "3.11.8"
  }
 },
 "nbformat": 4,
 "nbformat_minor": 2
}
