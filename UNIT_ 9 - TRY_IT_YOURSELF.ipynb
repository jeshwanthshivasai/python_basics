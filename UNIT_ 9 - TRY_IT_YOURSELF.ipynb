{
 "cells": [
  {
   "cell_type": "code",
   "execution_count": 18,
   "metadata": {},
   "outputs": [
    {
     "name": "stdout",
     "output_type": "stream",
     "text": [
      "The Shadab serves Hyderabadi cuisine.\n",
      "The Shadab is open right now. You' Welcome.\n",
      "\n",
      "The Nayab serves Mughlai cuisine.\n",
      "The Nayab is open right now. You' Welcome.\n"
     ]
    }
   ],
   "source": [
    "#Try_it_yourself\n",
    "#9-1 (Restaurant)\n",
    "class Restaurant:\n",
    "    def __init__(self, restaurant_name, cuisine_type):\n",
    "        self.name = restaurant_name.title()\n",
    "        self.cuisine = cuisine_type.title()\n",
    "    def decribe_restaurant(self):\n",
    "        print(f\"{self.name} {self.cuisine}.\")\n",
    "    def open_restaurant(self):\n",
    "        print(f\"{self.name}\")\n",
    "restaurant = Restaurant('Shadab', 'Hyderabadi')\n",
    "print(f\"The {restaurant.name} serves {restaurant.cuisine} cuisine.\")\n",
    "print(f\"The {restaurant.name} is open right now. You' Welcome.\")"
   ]
  },
  {
   "cell_type": "code",
   "execution_count": 21,
   "metadata": {},
   "outputs": [
    {
     "name": "stdout",
     "output_type": "stream",
     "text": [
      "\n",
      "Shadab serves wonderful Hyderabadi.\n",
      "\n",
      "Nayab serves wonderful Mughlai.\n",
      "\n",
      "Cafe 555 serves wonderful South Indian.\n"
     ]
    }
   ],
   "source": [
    "#Try_it_yourself\n",
    "#9-2 (Three_Restaurants)\n",
    "class Restaurant:\n",
    "    def __init__(self, restaurant_name, cuisine_type):\n",
    "        self.name = restaurant_name.title()\n",
    "        self.cuisine = cuisine_type.title()\n",
    "    def decribe_restaurant(self):\n",
    "        message=self.name + \" serves wonderful \" + self.cuisine + \".\"\n",
    "        print(\"\\n\" + message)\n",
    "    def open_restaurant(self):\n",
    "        message=self.name + \" is open \" + \".\"\n",
    "        print(f\"{self.name}\")\n",
    "\n",
    "shadab=Restaurant('Shadab', 'Hyderabadi')\n",
    "shadab.decribe_restaurant()\n",
    "\n",
    "nayab=Restaurant('Nayab', 'Mughlai')\n",
    "nayab.decribe_restaurant()\n",
    "\n",
    "cafe555=Restaurant('Cafe 555', 'South Indian')\n",
    "cafe555.decribe_restaurant()"
   ]
  },
  {
   "cell_type": "code",
   "execution_count": 31,
   "metadata": {},
   "outputs": [
    {
     "name": "stdout",
     "output_type": "stream",
     "text": [
      "\n",
      "Jeshwanth Shiva Sai\n",
      "\t Username : jeshwanthshivasai\n",
      "\t Password : 143qwerty\n",
      "\t Location : Hyderabad\n",
      "\t ----> Hi, jeshwanthshivasai\n",
      "\n",
      "Chikka Yogitha\n",
      "\t Username : chikkayogitha\n",
      "\t Password : saibaba123\n",
      "\t Location : Hyderabad\n",
      "\t ----> Hi, chikkayogitha\n"
     ]
    }
   ],
   "source": [
    "#Try_it_yourself\n",
    "#9-3 (Users)\n",
    "class Users:\n",
    "    def __init__(self, first_name, last_name, username, password, location):\n",
    "        self.first_name=first_name.title()\n",
    "        self.last_name=last_name.title()\n",
    "        self.username=username\n",
    "        self.password=password\n",
    "        self.location=location.title()\n",
    "    def describe_user(self):\n",
    "        print(\"\\n\" + self.first_name + \" \" + self.last_name)\n",
    "        print(\"\\t Username : \" + self.username)\n",
    "        print(\"\\t Password : \" + self.password)\n",
    "        print(\"\\t Location : \" + self.location)\n",
    "    def greet_user(self):\n",
    "        print(\"\\t ----> Hi, \" + self.username)\n",
    "\n",
    "first = Users('Jeshwanth', 'Shiva Sai', 'jeshwanthshivasai', '143qwerty', 'Hyderabad')\n",
    "first.describe_user()\n",
    "first.greet_user()\n",
    "\n",
    "second = Users('Chikka', 'Yogitha', 'chikkayogitha', 'saibaba123', 'Hyderabad')\n",
    "second.describe_user()\n",
    "second.greet_user()"
   ]
  },
  {
   "cell_type": "code",
   "execution_count": null,
   "metadata": {},
   "outputs": [],
   "source": [
    "#Try_it_yourself\n",
    "#9-4 ()\n",
    "\n"
   ]
  },
  {
   "cell_type": "code",
   "execution_count": null,
   "metadata": {},
   "outputs": [],
   "source": [
    "#Try_it_yourself\n",
    "#9-5 ()\n"
   ]
  },
  {
   "cell_type": "code",
   "execution_count": null,
   "metadata": {},
   "outputs": [],
   "source": [
    "#Try_it_yourself\n",
    "#9-6 ()\n",
    "\n",
    "                    \n",
    "                    "
   ]
  },
  {
   "cell_type": "code",
   "execution_count": null,
   "metadata": {},
   "outputs": [],
   "source": [
    "#Try_it_yourself\n",
    "#9-7 ()\n"
   ]
  },
  {
   "cell_type": "code",
   "execution_count": null,
   "metadata": {},
   "outputs": [],
   "source": [
    "#Try_it_yourself\n",
    "#9-9 ()\n"
   ]
  },
  {
   "cell_type": "code",
   "execution_count": null,
   "metadata": {},
   "outputs": [],
   "source": [
    "#Try_it_yourself\n",
    "#9-9 ()\n"
   ]
  },
  {
   "cell_type": "code",
   "execution_count": null,
   "metadata": {},
   "outputs": [],
   "source": [
    "#Try_it_yourself\n",
    "#9-10 ()\n"
   ]
  },
  {
   "cell_type": "code",
   "execution_count": null,
   "metadata": {},
   "outputs": [],
   "source": [
    "#Try_it_yourself\n",
    "#9-11 ()\n"
   ]
  },
  {
   "cell_type": "code",
   "execution_count": null,
   "metadata": {},
   "outputs": [],
   "source": [
    "#Try_it_yourself\n",
    "#9-12 ()\n"
   ]
  },
  {
   "cell_type": "code",
   "execution_count": null,
   "metadata": {},
   "outputs": [],
   "source": [
    "#Try_it_yourself\n",
    "#9-13 ()\n"
   ]
  },
  {
   "cell_type": "code",
   "execution_count": null,
   "metadata": {},
   "outputs": [],
   "source": [
    "#Try_it_yourself\n",
    "#9-14 ()\n"
   ]
  },
  {
   "cell_type": "code",
   "execution_count": null,
   "metadata": {},
   "outputs": [],
   "source": [
    "#Try_it_yourself\n",
    "#9-15 ()\n"
   ]
  },
  {
   "cell_type": "code",
   "execution_count": null,
   "metadata": {},
   "outputs": [],
   "source": [
    "#Try_it_yourself\n",
    "#9-16 ()\n"
   ]
  }
 ],
 "metadata": {
  "kernelspec": {
   "display_name": "Python 3",
   "language": "python",
   "name": "python3"
  },
  "language_info": {
   "codemirror_mode": {
    "name": "ipython",
    "version": 3
   },
   "file_extension": ".py",
   "mimetype": "text/x-python",
   "name": "python",
   "nbconvert_exporter": "python",
   "pygments_lexer": "ipython3",
   "version": "3.11.8"
  }
 },
 "nbformat": 4,
 "nbformat_minor": 2
}
