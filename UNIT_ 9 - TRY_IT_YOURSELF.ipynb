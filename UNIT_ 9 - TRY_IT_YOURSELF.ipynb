{
 "cells": [
  {
   "cell_type": "code",
   "execution_count": 18,
   "metadata": {},
   "outputs": [
    {
     "name": "stdout",
     "output_type": "stream",
     "text": [
      "The Shadab serves Hyderabadi cuisine.\n",
      "The Shadab is open right now. You' Welcome.\n",
      "\n",
      "The Nayab serves Mughlai cuisine.\n",
      "The Nayab is open right now. You' Welcome.\n"
     ]
    }
   ],
   "source": [
    "#Try_it_yourself\n",
    "#9-1 (Restaurant)\n",
    "class Restaurant:\n",
    "    def __init__(self, restaurant_name, cuisine_type):\n",
    "        self.name = restaurant_name.title()\n",
    "        self.cuisine = cuisine_type.title()\n",
    "    def decribe_restaurant(self):\n",
    "        print(f\"{self.name} {self.cuisine}.\")\n",
    "    def open_restaurant(self):\n",
    "        print(f\"{self.name}\")\n",
    "restaurant = Restaurant('Shadab', 'Hyderabadi')\n",
    "print(f\"The {restaurant.name} serves {restaurant.cuisine} cuisine.\")\n",
    "print(f\"The {restaurant.name} is open right now. You' Welcome.\")"
   ]
  },
  {
   "cell_type": "code",
   "execution_count": 21,
   "metadata": {},
   "outputs": [
    {
     "name": "stdout",
     "output_type": "stream",
     "text": [
      "\n",
      "Shadab serves wonderful Hyderabadi.\n",
      "\n",
      "Nayab serves wonderful Mughlai.\n",
      "\n",
      "Cafe 555 serves wonderful South Indian.\n"
     ]
    }
   ],
   "source": [
    "#Try_it_yourself\n",
    "#9-2 (Three_Restaurants)\n",
    "class Restaurant:\n",
    "    def __init__(self, restaurant_name, cuisine_type):\n",
    "        self.name = restaurant_name.title()\n",
    "        self.cuisine = cuisine_type.title()\n",
    "    def decribe_restaurant(self):\n",
    "        message=self.name + \" serves wonderful \" + self.cuisine + \".\"\n",
    "        print(\"\\n\" + message)\n",
    "    def open_restaurant(self):\n",
    "        message=self.name + \" is open \" + \".\"\n",
    "        print(f\"{self.name}\")\n",
    "\n",
    "shadab=Restaurant('Shadab', 'Hyderabadi')\n",
    "shadab.decribe_restaurant()\n",
    "\n",
    "nayab=Restaurant('Nayab', 'Mughlai')\n",
    "nayab.decribe_restaurant()\n",
    "\n",
    "cafe555=Restaurant('Cafe 555', 'South Indian')\n",
    "cafe555.decribe_restaurant()"
   ]
  },
  {
   "cell_type": "code",
   "execution_count": 31,
   "metadata": {},
   "outputs": [
    {
     "name": "stdout",
     "output_type": "stream",
     "text": [
      "\n",
      "Jeshwanth Shiva Sai\n",
      "\t Username : jeshwanthshivasai\n",
      "\t Password : 143qwerty\n",
      "\t Location : Hyderabad\n",
      "\t ----> Hi, jeshwanthshivasai\n",
      "\n",
      "Chikka Yogitha\n",
      "\t Username : chikkayogitha\n",
      "\t Password : saibaba123\n",
      "\t Location : Hyderabad\n",
      "\t ----> Hi, chikkayogitha\n"
     ]
    }
   ],
   "source": [
    "#Try_it_yourself\n",
    "#9-3 (Users)\n",
    "class Users:\n",
    "    def __init__(self, first_name, last_name, username, password, location):\n",
    "        self.first_name=first_name.title()\n",
    "        self.last_name=last_name.title()\n",
    "        self.username=username\n",
    "        self.password=password\n",
    "        self.location=location.title()\n",
    "    def describe_user(self):\n",
    "        print(\"\\n\" + self.first_name + \" \" + self.last_name)\n",
    "        print(\"\\t Username : \" + self.username)\n",
    "        print(\"\\t Password : \" + self.password)\n",
    "        print(\"\\t Location : \" + self.location)\n",
    "    def greet_user(self):\n",
    "        print(\"\\t ----> Hi, \" + self.username)\n",
    "\n",
    "first = Users('Jeshwanth', 'Shiva Sai', 'jeshwanthshivasai', '143qwerty', 'Hyderabad')\n",
    "first.describe_user()\n",
    "first.greet_user()\n",
    "\n",
    "second = Users('Chikka', 'Yogitha', 'chikkayogitha', 'saibaba123', 'Hyderabad')\n",
    "second.describe_user()\n",
    "second.greet_user()"
   ]
  },
  {
   "cell_type": "code",
   "execution_count": 2,
   "metadata": {},
   "outputs": [
    {
     "name": "stdout",
     "output_type": "stream",
     "text": [
      "number of customers served initially:  0\n",
      "Number of customers served after change:  10\n",
      "Number of customers served after setting:  20\n",
      "Number of customers served after incrementing:  35\n"
     ]
    }
   ],
   "source": [
    "#Try_it_yourself\n",
    "#9-4 (Number_Served)\n",
    "class Restaurant:\n",
    "    def __init__(self, restaurant_name, cuisine_type):\n",
    "        self.name = restaurant_name\n",
    "        self.cuisine = cuisine_type\n",
    "        self.number_served=0\n",
    "    def decribe_restaurant(self):\n",
    "        print(f\"{self.name} {self.cuisine}.\")\n",
    "    def open_restaurant(self):\n",
    "        print(f\"{self.name}\")\n",
    "    def set_number_served(self, number):\n",
    "        self.number_served=number\n",
    "    def increment_number_served(self, increment):\n",
    "        self.number_served+=increment\n",
    "\n",
    "restaurant=Restaurant('Shadab', 'Mughlai')\n",
    "\n",
    "print(\"number of customers served initially: \", restaurant.number_served)\n",
    "\n",
    "restaurant.number_served=10\n",
    "print(\"Number of customers served after change: \", restaurant.number_served)\n",
    "\n",
    "restaurant.set_number_served(20)\n",
    "print(\"Number of customers served after setting: \", restaurant.number_served)\n",
    "\n",
    "restaurant.increment_number_served(15)\n",
    "print(\"Number of customers served after incrementing: \", restaurant.number_served)"
   ]
  },
  {
   "cell_type": "code",
   "execution_count": 4,
   "metadata": {},
   "outputs": [
    {
     "name": "stdout",
     "output_type": "stream",
     "text": [
      "\n",
      "Jeshwanth Shiva Sai\n",
      "\t Username : jeshwanthshivasai\n",
      "\t Password : 143qwerty\n",
      "\t Location : Hyderabad\n",
      "\t ----> Hi, jeshwanthshivasai\n",
      "login attempts before reset:  3\n",
      "login attempts after reset:  0\n"
     ]
    }
   ],
   "source": [
    "#Try_it_yourself\n",
    "#9-5 (Login_Attempts)\n",
    "class Users:\n",
    "    def __init__(self, first_name, last_name, username, password, location):\n",
    "        self.first_name=first_name.title()\n",
    "        self.last_name=last_name.title()\n",
    "        self.username=username\n",
    "        self.password=password\n",
    "        self.location=location.title()\n",
    "        self.login_attempts=0\n",
    "    def describe_user(self):\n",
    "        print(\"\\n\" + self.first_name + \" \" + self.last_name)\n",
    "        print(\"\\t Username : \" + self.username)\n",
    "        print(\"\\t Password : \" + self.password)\n",
    "        print(\"\\t Location : \" + self.location)\n",
    "    def greet_user(self):\n",
    "        print(\"\\t ----> Hi, \" + self.username)\n",
    "    def increment_login_attempts(self):\n",
    "        self.login_attempts+=1\n",
    "    def reset_login_attempts(self):\n",
    "        self.login_attempts=0\n",
    "\n",
    "first = Users('Jeshwanth', 'Shiva Sai', 'jeshwanthshivasai', '143qwerty', 'Hyderabad')\n",
    "first.describe_user()\n",
    "first.greet_user()\n",
    "\n",
    "first.increment_login_attempts()\n",
    "first.increment_login_attempts()\n",
    "first.increment_login_attempts()\n",
    "\n",
    "print(\"login attempts before reset: \", first.login_attempts)\n",
    "\n",
    "first.reset_login_attempts()\n",
    "\n",
    "print(\"login attempts after reset: \", first.login_attempts)\n",
    "\n"
   ]
  },
  {
   "cell_type": "code",
   "execution_count": 5,
   "metadata": {},
   "outputs": [
    {
     "name": "stdout",
     "output_type": "stream",
     "text": [
      "The Ice Cream ice_cream.\n",
      "\n",
      "We have the following flavors available: \n",
      "- Vanilla\n",
      "- Chocolate\n",
      "- Butterscotch\n"
     ]
    }
   ],
   "source": [
    "#Try_it_yourself\n",
    "#9-6 (Ice_Cream_Stand)\n",
    "class Restaurant:\n",
    "    def __init__(self, restaurant_name, cuisine_type):\n",
    "        self.name = restaurant_name\n",
    "        self.cuisine = cuisine_type\n",
    "        self.number_served=0\n",
    "    def decribe_restaurant(self):\n",
    "        print(f\"{self.name} {self.cuisine}.\")\n",
    "    def open_restaurant(self):\n",
    "        print(f\"{self.name}\")\n",
    "    def set_number_served(self, number):\n",
    "        self.number_served=number\n",
    "    def increment_number_served(self, increment):\n",
    "        self.number_served+=increment\n",
    "\n",
    "class IceCreamStand(Restaurant):\n",
    "    def __init__(self, restaurant_name, cuisine_type='ice_cream'):\n",
    "        super().__init__(restaurant_name, cuisine_type)\n",
    "        self.flavors = []\n",
    "    def show_flavors(self):\n",
    "        print(\"\\nWe have the following flavors available: \")\n",
    "        for flavor in self.flavors:\n",
    "            print(\"- \" + flavor.title())\n",
    "\n",
    "havmor = IceCreamStand('The Ice Cream')\n",
    "havmor.flavors = ['vanilla', 'chocolate', 'butterscotch']\n",
    "\n",
    "havmor.decribe_restaurant()\n",
    "havmor.show_flavors()"
   ]
  },
  {
   "cell_type": "code",
   "execution_count": 6,
   "metadata": {},
   "outputs": [
    {
     "name": "stdout",
     "output_type": "stream",
     "text": [
      "\n",
      "Jeshwanth Shiva Sai\n",
      "\t Username : jeshwanthshivasai\n",
      "\t Password : 143qwerty\n",
      "\t Location : Hyderabad\n",
      "\n",
      "Privileges an Admin has :\n",
      "- can reset passwords\n",
      "- can moderate discussions\n",
      "- can suspend accounts\n"
     ]
    }
   ],
   "source": [
    "#Try_it_yourself\n",
    "#9-7 (Admin)\n",
    "class Users:\n",
    "    def __init__(self, first_name, last_name, username, password, location):\n",
    "        self.first_name=first_name.title()\n",
    "        self.last_name=last_name.title()\n",
    "        self.username=username\n",
    "        self.password=password\n",
    "        self.location=location.title()\n",
    "        self.login_attempts=0\n",
    "    def describe_user(self):\n",
    "        print(\"\\n\" + self.first_name + \" \" + self.last_name)\n",
    "        print(\"\\t Username : \" + self.username)\n",
    "        print(\"\\t Password : \" + self.password)\n",
    "        print(\"\\t Location : \" + self.location)\n",
    "    def greet_user(self):\n",
    "        print(\"\\t ----> Hi, \" + self.username)\n",
    "    def increment_login_attempts(self):\n",
    "        self.login_attempts+=1\n",
    "    def reset_login_attempts(self):\n",
    "        self.login_attempts=0\n",
    "\n",
    "class Admin(Users):\n",
    "    def __init__(self, first_name, last_name, username, password, location):\n",
    "        super().__init__(first_name, last_name, username, password, location)\n",
    "        self.privileges = []\n",
    "    \n",
    "    def show_privileges(self):\n",
    "        print(\"\\nPrivileges an Admin has :\")\n",
    "        for privilege in self.privileges:\n",
    "            print(\"- \" + privilege)\n",
    "\n",
    "first = Admin('Jeshwanth', 'Shiva Sai', 'jeshwanthshivasai', '143qwerty', 'Hyderabad')\n",
    "first.describe_user()\n",
    "\n",
    "first.privileges = [\n",
    "    'can add post',\n",
    "    'can delete post',\n",
    "    'can ban user',\n",
    "    ]\n",
    "\n",
    "first.show_privileges()"
   ]
  },
  {
   "cell_type": "code",
   "execution_count": 9,
   "metadata": {},
   "outputs": [
    {
     "name": "stdout",
     "output_type": "stream",
     "text": [
      "\n",
      "Jeshwanth Shiva Sai\n",
      "\t Username : jeshwanthshivasai\n",
      "\t Password : 143qwerty\n",
      "\t Location : Hyderabad\n",
      "\n",
      "Privileges an Admin has :\n",
      "No privileges\n",
      "\n",
      "Adding Privileges\n",
      "\n",
      "Privileges an Admin has :\n",
      "- can add post\n",
      "- can delete post\n",
      "- can ban user\n",
      "No privileges\n"
     ]
    }
   ],
   "source": [
    "#Try_it_yourself\n",
    "#9-8 (Privileges)\n",
    "class Users:\n",
    "    def __init__(self, first_name, last_name, username, password, location):\n",
    "        self.first_name=first_name.title()\n",
    "        self.last_name=last_name.title()\n",
    "        self.username=username\n",
    "        self.password=password\n",
    "        self.location=location.title()\n",
    "        self.login_attempts=0\n",
    "    def describe_user(self):\n",
    "        print(\"\\n\" + self.first_name + \" \" + self.last_name)\n",
    "        print(\"\\t Username : \" + self.username)\n",
    "        print(\"\\t Password : \" + self.password)\n",
    "        print(\"\\t Location : \" + self.location)\n",
    "    def greet_user(self):\n",
    "        print(\"\\t ----> Hi, \" + self.username)\n",
    "    def increment_login_attempts(self):\n",
    "        self.login_attempts+=1\n",
    "    def reset_login_attempts(self):\n",
    "        self.login_attempts=0\n",
    "\n",
    "class Admin(Users):\n",
    "    def __init__(self, first_name, last_name, username, password, location):\n",
    "        super().__init__(first_name, last_name, username, password, location)\n",
    "        self.privileges = Privileges()\n",
    "\n",
    "class Privileges():\n",
    "    def __init__(self, privileges=[]):\n",
    "        self.privileges = privileges\n",
    "    def show_privileges(self):\n",
    "        print(\"\\nPrivileges an Admin has :\")\n",
    "        for privilege in self.privileges:\n",
    "            print(\"- \" + privilege)\n",
    "        else:\n",
    "            print(\"No privileges\")\n",
    "\n",
    "first = Admin('Jeshwanth', 'Shiva Sai', 'jeshwanthshivasai', '143qwerty', 'Hyderabad')\n",
    "first.describe_user()\n",
    "\n",
    "first.privileges.show_privileges()\n",
    "\n",
    "print(\"\\nAdding Privileges\")\n",
    "first_privileges = [\n",
    "    'can add post',\n",
    "    'can delete post',\n",
    "    'can ban user',\n",
    "    ]\n",
    "\n",
    "first.privileges.privileges = first_privileges\n",
    "first.privileges.show_privileges()"
   ]
  },
  {
   "cell_type": "code",
   "execution_count": 11,
   "metadata": {},
   "outputs": [
    {
     "name": "stdout",
     "output_type": "stream",
     "text": [
      "Make an electric car and check the battery\n",
      "This car has a 40-kWh battery.\n",
      "\n",
      "Upgrade the battery and check it again\n",
      "Upgraded this battery to 65kWh.\n",
      "This car has a 65-kWh battery.\n",
      "\n",
      "Try upgrading the battery a second time\n",
      "The battery is already upgraded.\n",
      "This car has a 65-kWh battery.\n"
     ]
    }
   ],
   "source": [
    "#Try_it_yourself\n",
    "#9-9 (Battery_Upgrade)\n",
    "class Car:\n",
    "    def __init__(self, make, model, year):\n",
    "        self.make = make\n",
    "        self.model = model\n",
    "        self.year = year\n",
    "        self.odometer_reading = 0\n",
    "    def description(self):\n",
    "        name = (f\"I have a {self.make} {self.model} {self.year}.\")\n",
    "        return name\n",
    "    def read_odometer(self):\n",
    "        print(f\"This car has {self.odometer} kilometres on it.\")\n",
    "    def update_odometer(self, mileage):\n",
    "        self.odometer=mileage\n",
    "        if mileage>=self.odometer:\n",
    "            self.odometer=mileage\n",
    "        else:\n",
    "            print(\"Can't Rollback\")\n",
    "    def increment_odometer(self, miles):\n",
    "        self.odometer+=miles\n",
    "\n",
    "class Battery:\n",
    "    def __init__(self, battery_size=40):\n",
    "        self.battery_size = battery_size\n",
    "    def describe_battery(self):\n",
    "        print(f\"This car has a {self.battery_size}-kWh battery.\")\n",
    "    def get_range(self):\n",
    "        if self.battery_size == 40:\n",
    "            range = 150\n",
    "        elif self.battery_size == 65:\n",
    "            range = 225\n",
    "        print(f\"This car can go about {range} kms on a full charge.\")\n",
    "    def upgrade_battery(self):\n",
    "        if self.battery_size == 40:\n",
    "            self.battery_size = 65\n",
    "            print(f\"Upgraded this battery to 65kWh.\")\n",
    "        else:\n",
    "            print(f\"The battery is already upgraded.\")\n",
    "\n",
    "class ElectricalCar(Car):\n",
    "    def __init__(self, make, model, year):\n",
    "        super().__init__(make, model, year)\n",
    "        self.battery_size = 2000\n",
    "        self.battery = Battery()\n",
    "\n",
    "print(\"Make an electric car and check the battery\")\n",
    "my_car = ElectricalCar('Nissan', 'GTR', 2019)\n",
    "my_car.battery.describe_battery()\n",
    "\n",
    "print(\"\\nUpgrade the battery and check it again\")\n",
    "my_car.battery.upgrade_battery()\n",
    "my_car.battery.describe_battery()\n",
    "\n",
    "print(\"\\nTry upgrading the battery a second time\")\n",
    "my_car.battery.upgrade_battery()\n",
    "my_car.battery.describe_battery()"
   ]
  },
  {
   "cell_type": "code",
   "execution_count": null,
   "metadata": {},
   "outputs": [],
   "source": [
    "#Try_it_yourself\n",
    "#9-10 ()\n"
   ]
  },
  {
   "cell_type": "code",
   "execution_count": null,
   "metadata": {},
   "outputs": [],
   "source": [
    "#Try_it_yourself\n",
    "#9-11 ()\n"
   ]
  },
  {
   "cell_type": "code",
   "execution_count": null,
   "metadata": {},
   "outputs": [],
   "source": [
    "#Try_it_yourself\n",
    "#9-12 ()\n"
   ]
  },
  {
   "cell_type": "code",
   "execution_count": null,
   "metadata": {},
   "outputs": [],
   "source": [
    "#Try_it_yourself\n",
    "#9-13 ()\n"
   ]
  },
  {
   "cell_type": "code",
   "execution_count": null,
   "metadata": {},
   "outputs": [],
   "source": [
    "#Try_it_yourself\n",
    "#9-14 ()\n"
   ]
  },
  {
   "cell_type": "code",
   "execution_count": null,
   "metadata": {},
   "outputs": [],
   "source": [
    "#Try_it_yourself\n",
    "#9-15 ()\n"
   ]
  },
  {
   "cell_type": "code",
   "execution_count": null,
   "metadata": {},
   "outputs": [],
   "source": [
    "#Try_it_yourself\n",
    "#9-16 ()\n"
   ]
  }
 ],
 "metadata": {
  "kernelspec": {
   "display_name": "Python 3",
   "language": "python",
   "name": "python3"
  },
  "language_info": {
   "codemirror_mode": {
    "name": "ipython",
    "version": 3
   },
   "file_extension": ".py",
   "mimetype": "text/x-python",
   "name": "python",
   "nbconvert_exporter": "python",
   "pygments_lexer": "ipython3",
   "version": "3.11.8"
  }
 },
 "nbformat": 4,
 "nbformat_minor": 2
}
