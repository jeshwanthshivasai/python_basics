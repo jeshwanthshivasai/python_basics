{
 "cells": [
  {
   "cell_type": "code",
   "execution_count": 2,
   "metadata": {},
   "outputs": [
    {
     "name": "stdout",
     "output_type": "stream",
     "text": [
      "Let me see if i can find you a BMW.\n"
     ]
    }
   ],
   "source": [
    "#Try_it_yourself\n",
    "#7-1 (Rental_Car)\n",
    "question = input(\"What kind of car would you like to have? \")\n",
    "print (\"Let me see if i can find you a \" + question + \".\")"
   ]
  },
  {
   "cell_type": "code",
   "execution_count": 2,
   "metadata": {},
   "outputs": [
    {
     "name": "stdout",
     "output_type": "stream",
     "text": [
      "Your table is ready.\n"
     ]
    }
   ],
   "source": [
    "#Try_it_yourself\n",
    "#7-2 (Restaurant_Seating)\n",
    "people = input(\"How many people are there in their dinner group? \")\n",
    "people = int(people)\n",
    "if (people > 8):\n",
    "    print(\"You'll have to wait for a table.\")\n",
    "else:\n",
    "    print(\"Your table is ready.\")"
   ]
  },
  {
   "cell_type": "code",
   "execution_count": 6,
   "metadata": {},
   "outputs": [
    {
     "name": "stdout",
     "output_type": "stream",
     "text": [
      "2 is not a multiple of ten.\n"
     ]
    }
   ],
   "source": [
    "#Try_it_yourself\n",
    "#7-3 (Multiples_of_Ten)\n",
    "number = input(\"Enter your number :\")\n",
    "number = int(number)\n",
    "if (number % 10 == 0):\n",
    "    print(str(number) + \" is a multiple of ten.\")\n",
    "else:\n",
    "    print(str(number) + \" is not a multiple of ten.\")"
   ]
  },
  {
   "cell_type": "code",
   "execution_count": 3,
   "metadata": {},
   "outputs": [
    {
     "name": "stdout",
     "output_type": "stream",
     "text": [
      "olives\n",
      "jalepenos\n",
      "pineapple\n"
     ]
    }
   ],
   "source": [
    "#Try_it_yourself\n",
    "#7-4 (Pizza_Toppings)\n",
    "topping = \"\\nEnter your toppings\"\n",
    "active = True\n",
    "while active:\n",
    "    message = input(topping)\n",
    "    if message == \"quit\":\n",
    "        active = False\n",
    "    else:\n",
    "        print(message)\n"
   ]
  },
  {
   "cell_type": "code",
   "execution_count": 2,
   "metadata": {},
   "outputs": [
    {
     "name": "stdout",
     "output_type": "stream",
     "text": [
      "The ticket is 15$\n",
      "The ticket is 15$\n",
      "The ticket is 10$\n",
      "The ticket is 15$\n",
      "The ticket is 15$\n",
      "The ticket is 10$\n",
      "The ticket is free\n",
      "The ticket is free\n"
     ]
    }
   ],
   "source": [
    "#Try_it_yourself\n",
    "#7-5 (Movie_Tickets)\n",
    "age = \"Enter your age?\"\n",
    "active = True\n",
    "while active:\n",
    "    information = input(age)\n",
    "    if information == \"quit\":\n",
    "        break\n",
    "    information = int(information)\n",
    "    if(information < 3):\n",
    "        print(\"The ticket is free\")\n",
    "    elif(information > 3 and information < 12):\n",
    "        print(\"The ticket is 10$\")\n",
    "    elif(information > 12):\n",
    "        print(\"The ticket is 15$\")\n"
   ]
  },
  {
   "cell_type": "code",
   "execution_count": null,
   "metadata": {},
   "outputs": [],
   "source": [
    "#Try_it_yourself\n",
    "#7-8 ()\n",
    "\n",
    "\n"
   ]
  },
  {
   "cell_type": "code",
   "execution_count": null,
   "metadata": {},
   "outputs": [],
   "source": [
    "#Try_it_yourself\n",
    "#7-9 ()\n"
   ]
  },
  {
   "cell_type": "code",
   "execution_count": null,
   "metadata": {},
   "outputs": [],
   "source": [
    "#Try_it_yourself\n",
    "#7-10 ()\n"
   ]
  }
 ],
 "metadata": {
  "kernelspec": {
   "display_name": "Python 3",
   "language": "python",
   "name": "python3"
  },
  "language_info": {
   "codemirror_mode": {
    "name": "ipython",
    "version": 3
   },
   "file_extension": ".py",
   "mimetype": "text/x-python",
   "name": "python",
   "nbconvert_exporter": "python",
   "pygments_lexer": "ipython3",
   "version": "3.11.8"
  }
 },
 "nbformat": 4,
 "nbformat_minor": 2
}
