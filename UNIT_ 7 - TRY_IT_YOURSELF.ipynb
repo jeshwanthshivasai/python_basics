{
 "cells": [
  {
   "cell_type": "code",
   "execution_count": 3,
   "metadata": {},
   "outputs": [
    {
     "name": "stdout",
     "output_type": "stream",
     "text": [
      "Let me see if i can find you a Bmw.\n"
     ]
    }
   ],
   "source": [
    "#Try_it_yourself\n",
    "#7-1 (Rental_Car)\n",
    "question = input(\"What kind of car would you like to have? \")\n",
    "print (\"Let me see if i can find you a \" + question + \".\")"
   ]
  },
  {
   "cell_type": "code",
   "execution_count": 4,
   "metadata": {},
   "outputs": [
    {
     "name": "stdout",
     "output_type": "stream",
     "text": [
      "You'll have to wait for a table.\n"
     ]
    }
   ],
   "source": [
    "#Try_it_yourself\n",
    "#7-2 (Restaurant_Seating)\n",
    "people = input(\"How many people are there in their dinner group? \")\n",
    "people = int(people)\n",
    "if (people > 8):\n",
    "    print(\"You'll have to wait for a table.\")\n",
    "else:\n",
    "    print(\"Your table is ready.\")"
   ]
  },
  {
   "cell_type": "code",
   "execution_count": 5,
   "metadata": {},
   "outputs": [
    {
     "name": "stdout",
     "output_type": "stream",
     "text": [
      "20 is a multiple of ten.\n"
     ]
    }
   ],
   "source": [
    "#Try_it_yourself\n",
    "#7-3 (Multiples_of_Ten)\n",
    "number = input(\"Enter your number :\")\n",
    "number = int(number)\n",
    "if (number % 10 == 0):\n",
    "    print(str(number) + \" is a multiple of ten.\")\n",
    "else:\n",
    "    print(str(number) + \" is not a multiple of ten.\")"
   ]
  },
  {
   "cell_type": "code",
   "execution_count": 4,
   "metadata": {},
   "outputs": [],
   "source": [
    "#Try_it_yourself\n",
    "#7-4 (Pizza_Toppings)\n",
    "topping = \"\\nEnter your toppings\"\n",
    "active = True\n",
    "while active:\n",
    "    message = input(topping)\n",
    "    if message == \"quit\":\n",
    "        active = False\n",
    "    else:\n",
    "        print(message)\n"
   ]
  },
  {
   "cell_type": "code",
   "execution_count": null,
   "metadata": {},
   "outputs": [],
   "source": [
    "#Try_it_yourself\n",
    "#7-5 (Movie_Tickets)\n",
    "age = \"Enter your age?\"\n",
    "active = True\n",
    "while active:\n",
    "    information = input(age)\n",
    "    if information == \"quit\":\n",
    "        break\n",
    "    information = int(information)\n",
    "    if(information < 3):\n",
    "        print(\"The ticket is free\")\n",
    "    elif(information > 3 and information < 12):\n",
    "        print(\"The ticket is 10$\")\n",
    "    elif(information > 12):\n",
    "        print(\"The ticket is 15$\")\n"
   ]
  },
  {
   "cell_type": "code",
   "execution_count": null,
   "metadata": {},
   "outputs": [],
   "source": [
    "#Try_it_yourself\n",
    "#7-8 (Deli)\n",
    "sandwich_orders = ['veg', 'cheese', 'chicken', 'grilled']\n",
    "finished_sandwiches = []\n",
    "while sandwich_orders:\n",
    "    order = sandwich_orders.pop()\n",
    "    print(f\"Your {order} is finished\")\n",
    "    finished_sandwiches.append(order)\n",
    "print(\"\\nList of finished sandwiches : \")\n",
    "for sandwich in finished_sandwiches:\n",
    "    print(sandwich)\n",
    "\n"
   ]
  },
  {
   "cell_type": "code",
   "execution_count": null,
   "metadata": {},
   "outputs": [],
   "source": [
    "#Try_it_yourself\n",
    "#7-9 (No_Pastrami)\n",
    "sandwich_orders = ['veg', 'pastrami', 'chicken', 'grilled']\n",
    "finished_sandwiches = []\n",
    "print(\"Sorry we've run out of Pastrami.\")\n",
    "while 'pastrami' in sandwich_orders:\n",
    "    sandwich_orders.remove('pastrami')\n",
    "print(\"\\n\")\n",
    "while sandwich_orders:\n",
    "    order = sandwich_orders.pop()\n",
    "    print(f\"Your {order.title()} is finished\")\n",
    "    finished_sandwiches.append(order)\n",
    "print(\"\\n\")\n",
    "for sandwich in finished_sandwiches:\n",
    "    print(f\"{sandwich.title()} is ready.\")"
   ]
  },
  {
   "cell_type": "code",
   "execution_count": null,
   "metadata": {},
   "outputs": [],
   "source": [
    "#Try_it_yourself\n",
    "#7-10 (Dream_Vacation)\n",
    "places = {}\n",
    "active = True\n",
    "while active:\n",
    "    name = input(\"Whats your name?\")\n",
    "    dream_vacation = input(\"\\n What's your Dream Vacation\")\n",
    "    places[name] = dream_vacation\n",
    "    repeat = input(\"Another response?\")\n",
    "    if repeat == 'No':\n",
    "        active = False\n",
    "print(\"\\n---Poll Results---\")\n",
    "for name, place in places.items():\n",
    "    print(f\"{name.title()} would like to go to {place.title()}\") "
   ]
  }
 ],
 "metadata": {
  "kernelspec": {
   "display_name": "Python 3",
   "language": "python",
   "name": "python3"
  },
  "language_info": {
   "codemirror_mode": {
    "name": "ipython",
    "version": 3
   },
   "file_extension": ".py",
   "mimetype": "text/x-python",
   "name": "python",
   "nbconvert_exporter": "python",
   "pygments_lexer": "ipython3",
   "version": "3.11.8"
  }
 },
 "nbformat": 4,
 "nbformat_minor": 2
}
