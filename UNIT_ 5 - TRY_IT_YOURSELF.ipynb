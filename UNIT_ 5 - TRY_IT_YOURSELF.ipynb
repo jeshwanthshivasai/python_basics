{
 "cells": [
  {
   "cell_type": "code",
   "execution_count": 2,
   "metadata": {},
   "outputs": [
    {
     "name": "stdout",
     "output_type": "stream",
     "text": [
      "Is number == 11? I predict True\n",
      "True\n",
      "Is number == 10? I predict False\n",
      "False\n",
      "Is number != 11? I predict False\n",
      "True\n",
      "Is number < 10? I predict True\n",
      "False\n",
      "Is number > 10? I predict False\n",
      "True\n",
      "Is number <= 10? I predict True\n",
      "False\n",
      "Is number >= 10? I predict False\n",
      "True\n",
      "Is number % 2 == 0? I predict False\n",
      "False\n",
      "Is number * 1 == 11? I predict True\n",
      "True\n",
      "Is number added by 1 equal to 11? I predict True\n",
      "False\n"
     ]
    }
   ],
   "source": [
    "#Try_it_yourself\n",
    "#5-1 (Conditional_Tests)\n",
    "# Define a variable for testing\n",
    "\n",
    "Number = 11\n",
    "\n",
    "#Case 1:\n",
    "print(\"Is number == 11? I predict True\")\n",
    "print(Number == 11)\n",
    "\n",
    "#Case 2:\n",
    "print(\"Is number == 10? I predict False\")\n",
    "print(Number == 10)\n",
    "\n",
    "#Case 3:\n",
    "print(\"Is number != 11? I predict False\")\n",
    "print(Number > 10)\n",
    "\n",
    "#Case 4:\n",
    "print(\"Is number < 10? I predict True\")\n",
    "print(Number < 10)\n",
    "\n",
    "#Case 5:\n",
    "print(\"Is number > 10? I predict False\")\n",
    "print(Number > 10)\n",
    "\n",
    "#Case 6:\n",
    "print(\"Is number <= 10? I predict True\")\n",
    "print(Number < 10)\n",
    "\n",
    "#Case 7:\n",
    "print(\"Is number >= 10? I predict False\")\n",
    "print(Number >= 10)\n",
    "\n",
    "#Case 8:\n",
    "print(\"Is number % 2 == 0? I predict False\")\n",
    "print(Number % 2 == 0)\n",
    "\n",
    "#Case 9:\n",
    "print(\"Is number * 1 == 11? I predict True\")\n",
    "print(Number * 1 == 11)\n",
    "\n",
    "#Case 10:\n",
    "print(\"Is number added by 1 equal to 11? I predict True\")\n",
    "print(1 + Number == 11)"
   ]
  },
  {
   "cell_type": "code",
   "execution_count": 20,
   "metadata": {},
   "outputs": [
    {
     "name": "stdout",
     "output_type": "stream",
     "text": [
      "True\n",
      "False\n",
      "True\n",
      "False\n",
      "True\n",
      "True\n",
      "True\n",
      "Haleem item added in menu\n"
     ]
    }
   ],
   "source": [
    "#Try_it_yourself\n",
    "#5-2 (More_Conditional_Tests)\n",
    "\n",
    "#case 1:Equality & Inequality\n",
    "username = 'jeshwanthshivasai'\n",
    "print(username == 'jeshwanthshivasai')\n",
    "\n",
    "username = 'jeshwanthshivasai'\n",
    "print(username != 'jeshwanthshivasai')\n",
    "\n",
    "#case 2:Lower_Method\n",
    "username = 'JESHWANTHSHIVASAI'\n",
    "print(username.lower() == 'jeshwanthshivasai')\n",
    "\n",
    "#case 3: Completed in (5-1)\n",
    "\n",
    "#case 4: 'and' & 'or' keyword\n",
    "myage = 25\n",
    "sisage = 23\n",
    "print((myage > 30) and (sisage < 25))\n",
    "\n",
    "myage = 25\n",
    "sisage = 23\n",
    "print((myage > 30) or (sisage < 25))\n",
    "\n",
    "#case 5:test if in list\n",
    "menu = ['pavbhaji', 'dahipuri', 'panipuri', 'dahiwada', 'wadapav']\n",
    "print('wadapav' in menu)\n",
    "\n",
    "#or\n",
    "\n",
    "menu = ['pavbhaji', 'dahipuri', 'panipuri', 'dahiwada', 'wadapav']\n",
    "print('wadapav' in menu)\n",
    "\n",
    "#case 6:test if not in list\n",
    "menu = ['pavbhaji', 'dahipuri', 'panipuri', 'dahiwada', 'wadapav']\n",
    "item = 'haleem'\n",
    "if item not in menu:\n",
    "    print(f\"{item.title()} item added in menu\")"
   ]
  },
  {
   "cell_type": "code",
   "execution_count": 1,
   "metadata": {},
   "outputs": [
    {
     "name": "stdout",
     "output_type": "stream",
     "text": [
      "You earned 5 points\n"
     ]
    }
   ],
   "source": [
    "#Try_it_yourself\n",
    "#5-3 (Alien_colors #1)\n",
    "alien_color = 'green'\n",
    "if alien_color == 'green':\n",
    "    print(\"You earned 5 points\")"
   ]
  },
  {
   "cell_type": "code",
   "execution_count": 2,
   "metadata": {},
   "outputs": [
    {
     "name": "stdout",
     "output_type": "stream",
     "text": [
      "You earned 10 points\n"
     ]
    }
   ],
   "source": [
    "#Try_it_yourself\n",
    "#5-4 (Alien_colors #2)\n",
    "alien_color = 'red'\n",
    "if alien_color == 'green':\n",
    "    print(\"You earned 5 points\")\n",
    "else:\n",
    "    print(\"You earned 10 points\")"
   ]
  },
  {
   "cell_type": "code",
   "execution_count": 3,
   "metadata": {},
   "outputs": [
    {
     "name": "stdout",
     "output_type": "stream",
     "text": [
      "You earned 15 points\n"
     ]
    }
   ],
   "source": [
    "#Try_it_yourself\n",
    "#5-5 (Alien_colors #3)\n",
    "alien_color = 'red'\n",
    "if alien_color == 'green':\n",
    "    print(\"You earned 5 points\")\n",
    "elif alien_color == 'yellow':\n",
    "    print(\"You earned 10 points\")\n",
    "else:\n",
    "    print(\"You earned 15 points\")"
   ]
  },
  {
   "cell_type": "code",
   "execution_count": 11,
   "metadata": {},
   "outputs": [
    {
     "name": "stdout",
     "output_type": "stream",
     "text": [
      "elder\n"
     ]
    }
   ],
   "source": [
    "#Try_it_yourself\n",
    "#5-6 (Stages_of_life)\n",
    "age =70\n",
    "if (age < 2):\n",
    "    print('baby')\n",
    "elif (age >= 2) and (age < 4):\n",
    "    print('toddler')\n",
    "elif (age >= 4) and (age < 13):\n",
    "    print('kid')\n",
    "elif (age >= 13) and (age < 20):\n",
    "    print('teenager')\n",
    "elif (age >= 20) and (age < 65):\n",
    "    print('adult')\n",
    "else:\n",
    "    print('elder')"
   ]
  },
  {
   "cell_type": "code",
   "execution_count": 13,
   "metadata": {},
   "outputs": [
    {
     "name": "stdout",
     "output_type": "stream",
     "text": [
      "Life saviour when i have no money.\n",
      "Fruit of wisdom\n",
      "purifies your blood\n",
      "like the seed in it\n"
     ]
    }
   ],
   "source": [
    "#Try_it_yourself\n",
    "#5-7 (Favourite_fruit)\n",
    "favourite_fruit = ['apple', 'banana', 'guava', 'pomegranate', 'kiwi',]\n",
    "if 'banana' in favourite_fruit:\n",
    "    print('Life saviour when i have no money.')\n",
    "if 'apple' in favourite_fruit:\n",
    "    print('Fruit of wisdom')\n",
    "if 'pomegranate' in favourite_fruit:\n",
    "    print('purifies your blood')\n",
    "if 'kiwi' in favourite_fruit:\n",
    "    print('like the seed in it')\n"
   ]
  },
  {
   "cell_type": "code",
   "execution_count": 18,
   "metadata": {},
   "outputs": [
    {
     "name": "stdout",
     "output_type": "stream",
     "text": [
      "Hello, Jesse thank you for logging in.\n",
      "Hello, Yogi thank you for logging in.\n",
      "Hello, Ramya thank you for logging in.\n",
      "Hello, Schola thank you for logging in.\n",
      "Hello, Admin admin would you like to see the report.\n"
     ]
    }
   ],
   "source": [
    "#Try_it_yourself\n",
    "#5-8 (Hello_admin)\n",
    "names = ['jesse', 'yogi', 'ramya', 'schola', 'admin']\n",
    "for name in names:\n",
    "    if name == 'admin':\n",
    "        print(f'Hello, {name.title()} admin would you like to see the report.')\n",
    "    else:\n",
    "        print(f\"Hello, {name.title()} thank you for logging in.\")\n",
    "\n"
   ]
  },
  {
   "cell_type": "code",
   "execution_count": 19,
   "metadata": {},
   "outputs": [
    {
     "name": "stdout",
     "output_type": "stream",
     "text": [
      "Find people\n"
     ]
    }
   ],
   "source": [
    "#Try_it_yourself\n",
    "#5-9 (No_users)\n",
    "names = []\n",
    "if names:\n",
    "    for name in names:\n",
    "        print(f'Add people {names.title()}')\n",
    "    print('\\n Added all the people')\n",
    "else:\n",
    "    print('Find people')"
   ]
  },
  {
   "cell_type": "code",
   "execution_count": 24,
   "metadata": {},
   "outputs": [
    {
     "name": "stdout",
     "output_type": "stream",
     "text": [
      "New username needed Jesse.\n",
      "New username needed Yogi.\n",
      "\n",
      "Cool! Done with the process!\n"
     ]
    }
   ],
   "source": [
    "#Try_it_yourself\n",
    "#5-10 (Checking_usernames)\n",
    "firstusers = ['jesse', 'yogi', 'ramya', 'schola', 'admin']\n",
    "secondusers = ['jesse', 'yogi']\n",
    "for user in secondusers:\n",
    "    if user in firstusers:\n",
    "        print(f\"New username needed {user.title()}.\")\n",
    "    else:\n",
    "        print(f\"Cool! You've got a unique name bud!.\")\n",
    "print('\\nCool! Done with the process!')\n"
   ]
  },
  {
   "cell_type": "code",
   "execution_count": 27,
   "metadata": {},
   "outputs": [
    {
     "name": "stdout",
     "output_type": "stream",
     "text": [
      "1st\n",
      "2nd\n",
      "3rd\n",
      "4th\n",
      "5th\n",
      "6th\n",
      "7th\n",
      "8th\n",
      "9th\n"
     ]
    }
   ],
   "source": [
    "#Try_it_yourself\n",
    "#5-11 (Ordinal_numbers)\n",
    "nums = [1, 2, 3, 4, 5, 6, 7, 8, 9]\n",
    "for num in nums:\n",
    "    if num == 1:\n",
    "        print(f\"{num}st\")\n",
    "    elif num == 2:\n",
    "        print(f\"{num}nd\")\n",
    "    elif num == 3:\n",
    "        print(f\"{num}rd\")\n",
    "    else:\n",
    "        print(f\"{num}th\")\n",
    "\n"
   ]
  }
 ],
 "metadata": {
  "kernelspec": {
   "display_name": "Python 3",
   "language": "python",
   "name": "python3"
  },
  "language_info": {
   "codemirror_mode": {
    "name": "ipython",
    "version": 3
   },
   "file_extension": ".py",
   "mimetype": "text/x-python",
   "name": "python",
   "nbconvert_exporter": "python",
   "pygments_lexer": "ipython3",
   "version": "3.11.8"
  }
 },
 "nbformat": 4,
 "nbformat_minor": 2
}
